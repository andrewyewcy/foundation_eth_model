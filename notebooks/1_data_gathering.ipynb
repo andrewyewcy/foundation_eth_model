{
 "cells": [
  {
   "cell_type": "markdown",
   "id": "f377621b-ac3a-49e6-aa85-62cb87d2a6c3",
   "metadata": {},
   "source": [
    "# Gathering data from Foundation API (FND Subgraph)"
   ]
  },
  {
   "cell_type": "markdown",
   "id": "a4012bf9-92ec-46d6-8e27-3232600c513c",
   "metadata": {},
   "source": [
    "This notebook is gathers data from the Foundation API, which can be accessed here: https://thegraph.com/hosted-service/subgraph/f8n/fnd"
   ]
  },
  {
   "cell_type": "code",
   "execution_count": 1,
   "id": "5aa8d72a-55dd-4dda-8429-f29da75017d2",
   "metadata": {},
   "outputs": [],
   "source": [
    "import requests\n",
    "import json\n",
    "import pandas as pd"
   ]
  },
  {
   "cell_type": "markdown",
   "id": "37efc666-f32f-424d-9f24-54ced4df3661",
   "metadata": {},
   "source": [
    "In GraphQL, the limit of \"first\" is [0:1000], the limit of \"skip\" is [0:5000].  \n",
    "This leads to a max of 6000 creators from the API."
   ]
  },
  {
   "cell_type": "markdown",
   "id": "aa85c324-2956-4b59-96f0-589e0090f907",
   "metadata": {},
   "source": [
    "## NFT Creator Info"
   ]
  },
  {
   "cell_type": "code",
   "execution_count": 2,
   "id": "9117d623-8a96-4d44-8f08-8a8a1aa95f98",
   "metadata": {},
   "outputs": [],
   "source": [
    "query  = \"\"\"\n",
    "{\n",
    "    creators(first: 1, orderBy: netSalesInETH, orderDirection: desc)\n",
    "    {\n",
    "    id\n",
    "    netSalesInETH\n",
    "    netSalesPendingInETH\n",
    "    netRevenueInETH\n",
    "    netRevenuePendingInETH\n",
    "    }\n",
    "}\n",
    "\"\"\"\n",
    "\n",
    "url = 'https://api.thegraph.com/subgraphs/name/f8n/fnd'\n",
    "r = requests.post(url, json={'query': query})\n",
    "json_data = json.loads(r.text)\n",
    "\n",
    "creator_list = json_data['data']['creators']\n",
    "df_column_names = list(creator_list[0].keys())\n",
    "creator_df = pd.DataFrame(columns = df_column_names);"
   ]
  },
  {
   "cell_type": "code",
   "execution_count": 3,
   "id": "5ff5f158-f46a-4ea7-81e3-00e41be5dbd5",
   "metadata": {
    "tags": []
   },
   "outputs": [],
   "source": [
    "for x in range(6):\n",
    "\n",
    "    skip_number = x*1000\n",
    "    \n",
    "    str1 = \"{creators(skip: \"\n",
    "    str2 = str(skip_number)\n",
    "    str3 = \", first: 1000, orderBy: netSalesInETH, orderDirection: desc){id netSalesInETH netSalesPendingInETH netRevenueInETH netRevenuePendingInETH}}\"\n",
    "\n",
    "    query  = str1 + str2 + str3\n",
    "\n",
    "    url = 'https://api.thegraph.com/subgraphs/name/f8n/fnd'\n",
    "    r = requests.post(url, json={'query': query})\n",
    "    #print(r.status_code)\n",
    "    #print(r.text)\n",
    "    json_data = json.loads(r.text)\n",
    "\n",
    "    creator_list = json_data['data']['creators']\n",
    "\n",
    "\n",
    "    for creator in range(len(creator_list)):\n",
    "        creator_df = creator_df.append(creator_list[creator], ignore_index = True);"
   ]
  },
  {
   "cell_type": "code",
   "execution_count": 4,
   "id": "875d0612-72db-47ce-a4b2-20ce5d793b48",
   "metadata": {},
   "outputs": [
    {
     "data": {
      "text/plain": [
       "(6000, 5)"
      ]
     },
     "execution_count": 4,
     "metadata": {},
     "output_type": "execute_result"
    }
   ],
   "source": [
    "creator_df.shape"
   ]
  },
  {
   "cell_type": "code",
   "execution_count": 5,
   "id": "20880845-69dc-4908-82d3-7fff10958808",
   "metadata": {},
   "outputs": [
    {
     "data": {
      "text/html": [
       "<div>\n",
       "<style scoped>\n",
       "    .dataframe tbody tr th:only-of-type {\n",
       "        vertical-align: middle;\n",
       "    }\n",
       "\n",
       "    .dataframe tbody tr th {\n",
       "        vertical-align: top;\n",
       "    }\n",
       "\n",
       "    .dataframe thead th {\n",
       "        text-align: right;\n",
       "    }\n",
       "</style>\n",
       "<table border=\"1\" class=\"dataframe\">\n",
       "  <thead>\n",
       "    <tr style=\"text-align: right;\">\n",
       "      <th></th>\n",
       "      <th>count</th>\n",
       "      <th>unique</th>\n",
       "      <th>top</th>\n",
       "      <th>freq</th>\n",
       "    </tr>\n",
       "  </thead>\n",
       "  <tbody>\n",
       "    <tr>\n",
       "      <th>id</th>\n",
       "      <td>6000</td>\n",
       "      <td>6000</td>\n",
       "      <td>0xf74d1224931afa9cf12d06092c1eb1818d1e255c</td>\n",
       "      <td>1</td>\n",
       "    </tr>\n",
       "    <tr>\n",
       "      <th>netRevenueInETH</th>\n",
       "      <td>6000</td>\n",
       "      <td>3427</td>\n",
       "      <td>0.85</td>\n",
       "      <td>378</td>\n",
       "    </tr>\n",
       "    <tr>\n",
       "      <th>netRevenuePendingInETH</th>\n",
       "      <td>6000</td>\n",
       "      <td>75</td>\n",
       "      <td>0</td>\n",
       "      <td>5869</td>\n",
       "    </tr>\n",
       "    <tr>\n",
       "      <th>netSalesInETH</th>\n",
       "      <td>6000</td>\n",
       "      <td>3344</td>\n",
       "      <td>1</td>\n",
       "      <td>380</td>\n",
       "    </tr>\n",
       "    <tr>\n",
       "      <th>netSalesPendingInETH</th>\n",
       "      <td>6000</td>\n",
       "      <td>73</td>\n",
       "      <td>0</td>\n",
       "      <td>5869</td>\n",
       "    </tr>\n",
       "  </tbody>\n",
       "</table>\n",
       "</div>"
      ],
      "text/plain": [
       "                       count unique  \\\n",
       "id                      6000   6000   \n",
       "netRevenueInETH         6000   3427   \n",
       "netRevenuePendingInETH  6000     75   \n",
       "netSalesInETH           6000   3344   \n",
       "netSalesPendingInETH    6000     73   \n",
       "\n",
       "                                                               top  freq  \n",
       "id                      0xf74d1224931afa9cf12d06092c1eb1818d1e255c     1  \n",
       "netRevenueInETH                                               0.85   378  \n",
       "netRevenuePendingInETH                                           0  5869  \n",
       "netSalesInETH                                                    1   380  \n",
       "netSalesPendingInETH                                             0  5869  "
      ]
     },
     "execution_count": 5,
     "metadata": {},
     "output_type": "execute_result"
    }
   ],
   "source": [
    "creator_df.describe().T"
   ]
  },
  {
   "cell_type": "markdown",
   "id": "9401da33-d496-4032-9cbd-5fd3723f3264",
   "metadata": {},
   "source": [
    "## NFT sales info (excluding Metadata)"
   ]
  },
  {
   "cell_type": "code",
   "execution_count": 6,
   "id": "46da1d37-d4a3-464d-8716-ebce3391dfe8",
   "metadata": {},
   "outputs": [],
   "source": [
    "query  = \"\"\"\n",
    "{\n",
    "    creators(first: 1, orderBy: netSalesInETH, orderDirection: desc)\n",
    "    {\n",
    "    nfts\n",
    "        {\n",
    "        id\n",
    "        dateMinted\n",
    "        netSalesInETH\n",
    "        netSalesPendingInETH\n",
    "        netRevenueInETH\n",
    "        netRevenuePendingInETH\n",
    "        isFirstSale\n",
    "        percentSplit\n",
    "        lastSalePriceInETH\n",
    "        tokenIPFSPath\n",
    "        }\n",
    "\n",
    "    }\n",
    "}\n",
    "\"\"\"\n",
    "\n",
    "url = 'https://api.thegraph.com/subgraphs/name/f8n/fnd'\n",
    "r = requests.post(url, json={'query': query})\n",
    "json_data = json.loads(r.text)\n",
    "\n",
    "creator_list = json_data['data']['creators']\n",
    "df_column_names = list(creator_list[0]['nfts'][0].keys())\n",
    "nft_sales_df = pd.DataFrame(columns = df_column_names);"
   ]
  },
  {
   "cell_type": "code",
   "execution_count": 7,
   "id": "b2ac8929-4d55-485a-9c58-94ddbe2d30c9",
   "metadata": {
    "tags": []
   },
   "outputs": [],
   "source": [
    "for x in range(6):\n",
    "\n",
    "    skip_number = x*1000\n",
    "    \n",
    "    str1 = \"{creators(skip: \"\n",
    "    str2 = str(skip_number)\n",
    "    str3 = \",first: 1000, orderBy: netSalesInETH, orderDirection: desc){nfts{id dateMinted netSalesInETH netSalesPendingInETH netRevenueInETH netRevenuePendingInETH isFirstSale percentSplit lastSalePriceInETH tokenIPFSPath}}}\"\n",
    "\n",
    "    query  = str1 + str2 + str3\n",
    "\n",
    "    url = 'https://api.thegraph.com/subgraphs/name/f8n/fnd'\n",
    "    r = requests.post(url, json={'query': query})\n",
    "    #print(r.status_code)\n",
    "    #print(r.text)\n",
    "    json_data = json.loads(r.text)\n",
    "\n",
    "    creator_list = json_data['data']['creators']\n",
    "\n",
    "    for creator in range(len(creator_list)):\n",
    "\n",
    "        nft_list = creator_list[creator]['nfts']\n",
    "\n",
    "        for nft in range(len(nft_list)):\n",
    "            nft_sales_df = nft_sales_df.append(nft_list[nft], ignore_index = True);"
   ]
  },
  {
   "cell_type": "code",
   "execution_count": 8,
   "id": "a9f9842d-c668-4c5c-9f14-b15d295eb730",
   "metadata": {},
   "outputs": [
    {
     "data": {
      "text/plain": [
       "(58830, 10)"
      ]
     },
     "execution_count": 8,
     "metadata": {},
     "output_type": "execute_result"
    }
   ],
   "source": [
    "nft_sales_df.shape"
   ]
  },
  {
   "cell_type": "code",
   "execution_count": 9,
   "id": "cf2eba6d-82a9-43b8-a99c-7ae0b0b3a2a8",
   "metadata": {},
   "outputs": [
    {
     "data": {
      "text/html": [
       "<div>\n",
       "<style scoped>\n",
       "    .dataframe tbody tr th:only-of-type {\n",
       "        vertical-align: middle;\n",
       "    }\n",
       "\n",
       "    .dataframe tbody tr th {\n",
       "        vertical-align: top;\n",
       "    }\n",
       "\n",
       "    .dataframe thead th {\n",
       "        text-align: right;\n",
       "    }\n",
       "</style>\n",
       "<table border=\"1\" class=\"dataframe\">\n",
       "  <thead>\n",
       "    <tr style=\"text-align: right;\">\n",
       "      <th></th>\n",
       "      <th>count</th>\n",
       "      <th>unique</th>\n",
       "      <th>top</th>\n",
       "      <th>freq</th>\n",
       "    </tr>\n",
       "  </thead>\n",
       "  <tbody>\n",
       "    <tr>\n",
       "      <th>dateMinted</th>\n",
       "      <td>58830</td>\n",
       "      <td>55697</td>\n",
       "      <td>1621941820</td>\n",
       "      <td>10</td>\n",
       "    </tr>\n",
       "    <tr>\n",
       "      <th>id</th>\n",
       "      <td>58830</td>\n",
       "      <td>58830</td>\n",
       "      <td>0x3b3ee1931dc30c1957379fac9aba94d1c48a5405-24437</td>\n",
       "      <td>1</td>\n",
       "    </tr>\n",
       "    <tr>\n",
       "      <th>isFirstSale</th>\n",
       "      <td>58830</td>\n",
       "      <td>2</td>\n",
       "      <td>False</td>\n",
       "      <td>34493</td>\n",
       "    </tr>\n",
       "    <tr>\n",
       "      <th>lastSalePriceInETH</th>\n",
       "      <td>34493</td>\n",
       "      <td>2353</td>\n",
       "      <td>1</td>\n",
       "      <td>2708</td>\n",
       "    </tr>\n",
       "    <tr>\n",
       "      <th>netRevenueInETH</th>\n",
       "      <td>58830</td>\n",
       "      <td>2906</td>\n",
       "      <td>0</td>\n",
       "      <td>24344</td>\n",
       "    </tr>\n",
       "    <tr>\n",
       "      <th>netRevenuePendingInETH</th>\n",
       "      <td>58830</td>\n",
       "      <td>5123</td>\n",
       "      <td>0</td>\n",
       "      <td>46311</td>\n",
       "    </tr>\n",
       "    <tr>\n",
       "      <th>netSalesInETH</th>\n",
       "      <td>58830</td>\n",
       "      <td>2580</td>\n",
       "      <td>0</td>\n",
       "      <td>24344</td>\n",
       "    </tr>\n",
       "    <tr>\n",
       "      <th>netSalesPendingInETH</th>\n",
       "      <td>58830</td>\n",
       "      <td>5037</td>\n",
       "      <td>0</td>\n",
       "      <td>46311</td>\n",
       "    </tr>\n",
       "    <tr>\n",
       "      <th>percentSplit</th>\n",
       "      <td>1987</td>\n",
       "      <td>1</td>\n",
       "      <td>{}</td>\n",
       "      <td>1987</td>\n",
       "    </tr>\n",
       "    <tr>\n",
       "      <th>tokenIPFSPath</th>\n",
       "      <td>58830</td>\n",
       "      <td>58720</td>\n",
       "      <td>QmPLGMv4YfTXziSQU54CVaxjd1YrvwJcs2RMCXkpC9Y88m...</td>\n",
       "      <td>3</td>\n",
       "    </tr>\n",
       "  </tbody>\n",
       "</table>\n",
       "</div>"
      ],
      "text/plain": [
       "                        count unique  \\\n",
       "dateMinted              58830  55697   \n",
       "id                      58830  58830   \n",
       "isFirstSale             58830      2   \n",
       "lastSalePriceInETH      34493   2353   \n",
       "netRevenueInETH         58830   2906   \n",
       "netRevenuePendingInETH  58830   5123   \n",
       "netSalesInETH           58830   2580   \n",
       "netSalesPendingInETH    58830   5037   \n",
       "percentSplit             1987      1   \n",
       "tokenIPFSPath           58830  58720   \n",
       "\n",
       "                                                                      top  \\\n",
       "dateMinted                                                     1621941820   \n",
       "id                       0x3b3ee1931dc30c1957379fac9aba94d1c48a5405-24437   \n",
       "isFirstSale                                                         False   \n",
       "lastSalePriceInETH                                                      1   \n",
       "netRevenueInETH                                                         0   \n",
       "netRevenuePendingInETH                                                  0   \n",
       "netSalesInETH                                                           0   \n",
       "netSalesPendingInETH                                                    0   \n",
       "percentSplit                                                           {}   \n",
       "tokenIPFSPath           QmPLGMv4YfTXziSQU54CVaxjd1YrvwJcs2RMCXkpC9Y88m...   \n",
       "\n",
       "                         freq  \n",
       "dateMinted                 10  \n",
       "id                          1  \n",
       "isFirstSale             34493  \n",
       "lastSalePriceInETH       2708  \n",
       "netRevenueInETH         24344  \n",
       "netRevenuePendingInETH  46311  \n",
       "netSalesInETH           24344  \n",
       "netSalesPendingInETH    46311  \n",
       "percentSplit             1987  \n",
       "tokenIPFSPath               3  "
      ]
     },
     "execution_count": 9,
     "metadata": {},
     "output_type": "execute_result"
    }
   ],
   "source": [
    "nft_sales_df.describe().T"
   ]
  },
  {
   "cell_type": "markdown",
   "id": "f31b8434-c55c-45a0-abb5-c43780a02bd8",
   "metadata": {},
   "source": [
    "## NFT Metadata Information"
   ]
  },
  {
   "cell_type": "code",
   "execution_count": 10,
   "id": "b799ee1d-13a1-41b9-b36a-b33b8024a467",
   "metadata": {},
   "outputs": [],
   "source": [
    "tokenIPFSPath_list = nft_sales_df['tokenIPFSPath'].unique()"
   ]
  },
  {
   "cell_type": "code",
   "execution_count": 12,
   "id": "8d360e2d-a877-4faa-ba00-1642740aef3a",
   "metadata": {},
   "outputs": [],
   "source": [
    "url_prefix = \"https://ipfs.io/ipfs/\"\n",
    "\n",
    "# https://fnd.dev/docs/fnd-subgraph There are 3 metadata fields : \"name\", \"description\", \"image\"\n",
    "metadata_columns = [\"tokenIPFS\", \"name\", \"description\", \"image\"]\n",
    "nft_metadata_df = pd.DataFrame(columns = metadata_columns)\n",
    "\n",
    "for token in tokenIPFSPath_list:\n",
    "    url = url_prefix + token\n",
    "    r = requests.get(url, json={'query': query})\n",
    "    try:\n",
    "        json_data = json.loads(r.text)\n",
    "        json_data[\"tokenIPFS\"] = token\n",
    "        nft_metadata_df = nft_metadata_df.append(json_data,ignore_index = True)\n",
    "    except:\n",
    "        nft_metadata_df = nft_metadata_df.append({\"tokenIPFS\": token, \"name\": \"\",\"description\": \"\", \"image\": \"\"}, ignore_index = True);"
   ]
  },
  {
   "cell_type": "code",
   "execution_count": 13,
   "id": "3f04c6fc-ae38-4a90-9995-1dfce103c5bd",
   "metadata": {},
   "outputs": [
    {
     "data": {
      "text/plain": [
       "(58720, 4)"
      ]
     },
     "execution_count": 13,
     "metadata": {},
     "output_type": "execute_result"
    }
   ],
   "source": [
    "nft_metadata_df.shape"
   ]
  },
  {
   "cell_type": "code",
   "execution_count": 14,
   "id": "21f74884-9d4f-4e48-be01-f0444c1a5400",
   "metadata": {},
   "outputs": [
    {
     "data": {
      "text/html": [
       "<div>\n",
       "<style scoped>\n",
       "    .dataframe tbody tr th:only-of-type {\n",
       "        vertical-align: middle;\n",
       "    }\n",
       "\n",
       "    .dataframe tbody tr th {\n",
       "        vertical-align: top;\n",
       "    }\n",
       "\n",
       "    .dataframe thead th {\n",
       "        text-align: right;\n",
       "    }\n",
       "</style>\n",
       "<table border=\"1\" class=\"dataframe\">\n",
       "  <thead>\n",
       "    <tr style=\"text-align: right;\">\n",
       "      <th></th>\n",
       "      <th>count</th>\n",
       "      <th>unique</th>\n",
       "      <th>top</th>\n",
       "      <th>freq</th>\n",
       "    </tr>\n",
       "  </thead>\n",
       "  <tbody>\n",
       "    <tr>\n",
       "      <th>tokenIPFS</th>\n",
       "      <td>58720</td>\n",
       "      <td>58720</td>\n",
       "      <td>QmNeqUFf3WKcXFEHgxFCrf3t8jrxyCkev6LBtRz78Ygq9u...</td>\n",
       "      <td>1</td>\n",
       "    </tr>\n",
       "    <tr>\n",
       "      <th>name</th>\n",
       "      <td>58720</td>\n",
       "      <td>53547</td>\n",
       "      <td>Serenity</td>\n",
       "      <td>28</td>\n",
       "    </tr>\n",
       "    <tr>\n",
       "      <th>description</th>\n",
       "      <td>58720</td>\n",
       "      <td>53438</td>\n",
       "      <td></td>\n",
       "      <td>1236</td>\n",
       "    </tr>\n",
       "    <tr>\n",
       "      <th>image</th>\n",
       "      <td>58720</td>\n",
       "      <td>57790</td>\n",
       "      <td>ipfs://undefined</td>\n",
       "      <td>13</td>\n",
       "    </tr>\n",
       "  </tbody>\n",
       "</table>\n",
       "</div>"
      ],
      "text/plain": [
       "             count unique                                                top  \\\n",
       "tokenIPFS    58720  58720  QmNeqUFf3WKcXFEHgxFCrf3t8jrxyCkev6LBtRz78Ygq9u...   \n",
       "name         58720  53547                                           Serenity   \n",
       "description  58720  53438                                                      \n",
       "image        58720  57790                                   ipfs://undefined   \n",
       "\n",
       "             freq  \n",
       "tokenIPFS       1  \n",
       "name           28  \n",
       "description  1236  \n",
       "image          13  "
      ]
     },
     "execution_count": 14,
     "metadata": {},
     "output_type": "execute_result"
    }
   ],
   "source": [
    "nft_metadata_df.describe().T"
   ]
  },
  {
   "cell_type": "markdown",
   "id": "6d7669ce-ee0e-4e45-9ae1-dc60b2afd4cf",
   "metadata": {},
   "source": [
    "# NFT Bid History Information"
   ]
  },
  {
   "cell_type": "code",
   "execution_count": 15,
   "id": "3e633fe2-4418-4df0-921a-112944c10988",
   "metadata": {},
   "outputs": [],
   "source": [
    "query  = \"\"\"\n",
    "{\n",
    "    creators(first: 1, orderBy: netSalesInETH, orderDirection: desc)\n",
    "    {\n",
    "    nfts\n",
    "        {\n",
    "        nftHistory\n",
    "            {\n",
    "            id\n",
    "            event\n",
    "            date\n",
    "            amountInETH\n",
    "            }\n",
    "        }\n",
    "\n",
    "    }\n",
    "}\n",
    "\"\"\"\n",
    "\n",
    "url = 'https://api.thegraph.com/subgraphs/name/f8n/fnd'\n",
    "r = requests.post(url, json={'query': query})\n",
    "json_data = json.loads(r.text)\n",
    "\n",
    "creator_list = json_data['data']['creators']\n",
    "df_column_names = list(creator_list[0]['nfts'][0]['nftHistory'][0].keys())\n",
    "\n",
    "nft_bid_df = pd.DataFrame(columns = df_column_names);"
   ]
  },
  {
   "cell_type": "code",
   "execution_count": 16,
   "id": "7b14afa5-81a6-4a40-99f0-7cfb1a488e05",
   "metadata": {},
   "outputs": [],
   "source": [
    "#print(r.status_code)\n",
    "#print(r.text)\n",
    "for x in range(6):\n",
    "\n",
    "    skip_number = x*1000\n",
    "    \n",
    "    str1 = \"{creators(skip: \"\n",
    "    str2 = str(skip_number)\n",
    "    str3 = \",first: 1000, orderBy: netSalesInETH, orderDirection: desc){nfts{nftHistory{id event date amountInETH}}}}\"\n",
    "\n",
    "    query  = str1 + str2 + str3\n",
    "\n",
    "    url = 'https://api.thegraph.com/subgraphs/name/f8n/fnd'\n",
    "    r = requests.post(url, json={'query': query})\n",
    "    #print(r.status_code)\n",
    "    #print(r.text)\n",
    "    json_data = json.loads(r.text)\n",
    "\n",
    "    creator_list = json_data['data']['creators']\n",
    "\n",
    "    for creator in range(len(creator_list)):\n",
    "\n",
    "        nft_list = creator_list[creator]['nfts']\n",
    "\n",
    "        for nft in range(len(nft_list)):\n",
    "\n",
    "            nft_bid_list = nft_list[nft]['nftHistory']\n",
    "\n",
    "            for nft_bid in range(len(nft_bid_list)):\n",
    "\n",
    "                nft_bid_df = nft_bid_df.append(nft_bid_list[nft_bid], ignore_index = True);\n",
    "        "
   ]
  },
  {
   "cell_type": "code",
   "execution_count": 17,
   "id": "e8621d48-6529-4b19-9c0c-d9aaa0b11f01",
   "metadata": {},
   "outputs": [
    {
     "data": {
      "text/plain": [
       "(327619, 4)"
      ]
     },
     "execution_count": 17,
     "metadata": {},
     "output_type": "execute_result"
    }
   ],
   "source": [
    "nft_bid_df.shape"
   ]
  },
  {
   "cell_type": "code",
   "execution_count": 18,
   "id": "fd33d8ac-f5c4-4586-81d1-c4b84c146e68",
   "metadata": {},
   "outputs": [
    {
     "data": {
      "text/html": [
       "<div>\n",
       "<style scoped>\n",
       "    .dataframe tbody tr th:only-of-type {\n",
       "        vertical-align: middle;\n",
       "    }\n",
       "\n",
       "    .dataframe tbody tr th {\n",
       "        vertical-align: top;\n",
       "    }\n",
       "\n",
       "    .dataframe thead th {\n",
       "        text-align: right;\n",
       "    }\n",
       "</style>\n",
       "<table border=\"1\" class=\"dataframe\">\n",
       "  <thead>\n",
       "    <tr style=\"text-align: right;\">\n",
       "      <th></th>\n",
       "      <th>count</th>\n",
       "      <th>unique</th>\n",
       "      <th>top</th>\n",
       "      <th>freq</th>\n",
       "    </tr>\n",
       "  </thead>\n",
       "  <tbody>\n",
       "    <tr>\n",
       "      <th>amountInETH</th>\n",
       "      <td>209491</td>\n",
       "      <td>5587</td>\n",
       "      <td>1</td>\n",
       "      <td>18532</td>\n",
       "    </tr>\n",
       "    <tr>\n",
       "      <th>date</th>\n",
       "      <td>327619</td>\n",
       "      <td>275340</td>\n",
       "      <td>1631220937</td>\n",
       "      <td>42</td>\n",
       "    </tr>\n",
       "    <tr>\n",
       "      <th>event</th>\n",
       "      <td>327619</td>\n",
       "      <td>14</td>\n",
       "      <td>Bid</td>\n",
       "      <td>81929</td>\n",
       "    </tr>\n",
       "    <tr>\n",
       "      <th>id</th>\n",
       "      <td>327619</td>\n",
       "      <td>327619</td>\n",
       "      <td>0x03b1c1227402f5b139f6c3d3c34ec1ffda707553a5fd...</td>\n",
       "      <td>1</td>\n",
       "    </tr>\n",
       "  </tbody>\n",
       "</table>\n",
       "</div>"
      ],
      "text/plain": [
       "              count  unique  \\\n",
       "amountInETH  209491    5587   \n",
       "date         327619  275340   \n",
       "event        327619      14   \n",
       "id           327619  327619   \n",
       "\n",
       "                                                           top   freq  \n",
       "amountInETH                                                  1  18532  \n",
       "date                                                1631220937     42  \n",
       "event                                                      Bid  81929  \n",
       "id           0x03b1c1227402f5b139f6c3d3c34ec1ffda707553a5fd...      1  "
      ]
     },
     "execution_count": 18,
     "metadata": {},
     "output_type": "execute_result"
    }
   ],
   "source": [
    "nft_bid_df.describe().T"
   ]
  },
  {
   "cell_type": "markdown",
   "id": "80268ee6-12be-4922-8e02-70b8c3d21a28",
   "metadata": {
    "tags": []
   },
   "source": [
    "## Connector 1"
   ]
  },
  {
   "cell_type": "code",
   "execution_count": 19,
   "id": "2d718e14-4f0b-46ca-9af9-be14e3d29d84",
   "metadata": {
    "tags": []
   },
   "outputs": [],
   "source": [
    "df_column_names = ['creator_id','nft_id']\n",
    "creator_nft_df = pd.DataFrame(columns = df_column_names)"
   ]
  },
  {
   "cell_type": "code",
   "execution_count": 20,
   "id": "900b5f88-13e0-4969-ba8d-8b0c4e06e039",
   "metadata": {
    "tags": []
   },
   "outputs": [],
   "source": [
    "for x in range(6):\n",
    "\n",
    "    skip_number = x*1000\n",
    "    \n",
    "    str1 = \"{creators(skip: \"\n",
    "    str2 = str(skip_number)\n",
    "    str3 = \",first: 1000, orderBy: netSalesInETH, orderDirection: desc){id nfts{id}}}\"\n",
    "\n",
    "    query  = str1 + str2 + str3\n",
    "\n",
    "    url = 'https://api.thegraph.com/subgraphs/name/f8n/fnd'\n",
    "    r = requests.post(url, json={'query': query})\n",
    "    #print(r.status_code)\n",
    "    #print(r.text)\n",
    "    json_data = json.loads(r.text)\n",
    "\n",
    "    creator_dict = json_data['data']['creators']\n",
    "\n",
    "    for creator_number in range(len(creator_dict)):\n",
    "\n",
    "        creator_list = list()\n",
    "        creator_str = json_data['data']['creators'][creator_number]['id']\n",
    "        creator_list += [creator_str]\n",
    "        creator_df_temp = pd.DataFrame(creator_list, columns = ['creator_id'])\n",
    "\n",
    "\n",
    "        nft_data = json_data['data']['creators'][creator_number]['nfts']\n",
    "        nft_list = list()\n",
    "        for nft_number in range(len(nft_data)):\n",
    "            nft_str = json_data['data']['creators'][creator_number]['nfts'][nft_number]['id']\n",
    "            nft_list += [nft_str]\n",
    "\n",
    "        nft_df = pd.DataFrame(nft_list,columns = ['nft_id'])\n",
    "\n",
    "\n",
    "        combined_df = pd.concat([creator_df_temp, nft_df], axis = 1)\n",
    "        combined_df.fillna(method='ffill', inplace = True)\n",
    "\n",
    "        creator_nft_df = pd.concat([creator_nft_df, combined_df])\n",
    "\n",
    "    creator_nft_df.reset_index;    "
   ]
  },
  {
   "cell_type": "code",
   "execution_count": 21,
   "id": "7072d051-26b7-4c69-98f5-eaca50d1396c",
   "metadata": {},
   "outputs": [
    {
     "data": {
      "text/plain": [
       "(58904, 2)"
      ]
     },
     "execution_count": 21,
     "metadata": {},
     "output_type": "execute_result"
    }
   ],
   "source": [
    "creator_nft_df.shape"
   ]
  },
  {
   "cell_type": "code",
   "execution_count": 22,
   "id": "17cb2f12-186f-4b48-96c1-0af67066f886",
   "metadata": {},
   "outputs": [
    {
     "data": {
      "text/html": [
       "<div>\n",
       "<style scoped>\n",
       "    .dataframe tbody tr th:only-of-type {\n",
       "        vertical-align: middle;\n",
       "    }\n",
       "\n",
       "    .dataframe tbody tr th {\n",
       "        vertical-align: top;\n",
       "    }\n",
       "\n",
       "    .dataframe thead th {\n",
       "        text-align: right;\n",
       "    }\n",
       "</style>\n",
       "<table border=\"1\" class=\"dataframe\">\n",
       "  <thead>\n",
       "    <tr style=\"text-align: right;\">\n",
       "      <th></th>\n",
       "      <th>count</th>\n",
       "      <th>unique</th>\n",
       "      <th>top</th>\n",
       "      <th>freq</th>\n",
       "    </tr>\n",
       "  </thead>\n",
       "  <tbody>\n",
       "    <tr>\n",
       "      <th>creator_id</th>\n",
       "      <td>58904</td>\n",
       "      <td>6000</td>\n",
       "      <td>0xd4518a94adc2fcaf1478e7c5ccc029be0f61ced9</td>\n",
       "      <td>100</td>\n",
       "    </tr>\n",
       "    <tr>\n",
       "      <th>nft_id</th>\n",
       "      <td>58871</td>\n",
       "      <td>58871</td>\n",
       "      <td>0x3b3ee1931dc30c1957379fac9aba94d1c48a5405-24437</td>\n",
       "      <td>1</td>\n",
       "    </tr>\n",
       "  </tbody>\n",
       "</table>\n",
       "</div>"
      ],
      "text/plain": [
       "            count unique                                               top  \\\n",
       "creator_id  58904   6000        0xd4518a94adc2fcaf1478e7c5ccc029be0f61ced9   \n",
       "nft_id      58871  58871  0x3b3ee1931dc30c1957379fac9aba94d1c48a5405-24437   \n",
       "\n",
       "           freq  \n",
       "creator_id  100  \n",
       "nft_id        1  "
      ]
     },
     "execution_count": 22,
     "metadata": {},
     "output_type": "execute_result"
    }
   ],
   "source": [
    "creator_nft_df.describe().T"
   ]
  },
  {
   "cell_type": "markdown",
   "id": "e1e23120-fd7c-4c49-b261-12c6d12e86d9",
   "metadata": {},
   "source": [
    "## Connector 2"
   ]
  },
  {
   "cell_type": "code",
   "execution_count": 23,
   "id": "9b89d67f-0f65-48da-a360-c56a0a0fea68",
   "metadata": {},
   "outputs": [],
   "source": [
    "df_column_names = ['nft_id','nft_history_id']\n",
    "nft_nft_history_df = pd.DataFrame(columns = df_column_names)"
   ]
  },
  {
   "cell_type": "code",
   "execution_count": 24,
   "id": "8dbde955-1d5d-4e24-a032-5765230d1460",
   "metadata": {
    "tags": []
   },
   "outputs": [],
   "source": [
    "for x in range(6):\n",
    "\n",
    "    skip_number = x*1000\n",
    "    \n",
    "    str1 = \"{creators(skip: \"\n",
    "    str2 = str(skip_number)\n",
    "    str3 = \",first: 1000, orderBy: netSalesInETH, orderDirection: desc){nfts{id nftHistory{id}}}}\"\n",
    "\n",
    "    query  = str1 + str2 + str3\n",
    "\n",
    "    url = 'https://api.thegraph.com/subgraphs/name/f8n/fnd'\n",
    "    r = requests.post(url, json={'query': query})\n",
    "    # convert json into list\n",
    "    json_data = json.loads(r.text)\n",
    "\n",
    "    creator_data = json_data['data']['creators']\n",
    "\n",
    "    for creator in range(len(creator_data)):\n",
    "\n",
    "        nft_data = creator_data[creator]['nfts']\n",
    "\n",
    "        for nft in range(len(nft_data)):\n",
    "            nft_str = nft_data[nft]['id']\n",
    "            nft_list = [nft_str]\n",
    "\n",
    "            nft_history_data = nft_data[nft]['nftHistory']\n",
    "            nft_history_list = list ()\n",
    "            for nft_history in range(len(nft_history_data)):\n",
    "                nft_history_str = nft_history_data[nft_history]['id']\n",
    "                nft_history_list += [nft_history_str]\n",
    "\n",
    "            nft_history_df = pd.DataFrame(nft_history_list, columns = ['nft_history_id'])\n",
    "            nft_df = pd.DataFrame(nft_list, columns = ['nft_id'])\n",
    "            combined_df = pd.concat([nft_df,nft_history_df],axis = 1)\n",
    "            combined_df.fillna(method='ffill', inplace = True)\n",
    "\n",
    "            nft_nft_history_df = pd.concat([nft_nft_history_df,combined_df])\n",
    "\n",
    "    nft_nft_history_df.reset_index;"
   ]
  },
  {
   "cell_type": "code",
   "execution_count": 25,
   "id": "25218fd0-bba1-449b-b1b3-128e8d9a77d9",
   "metadata": {},
   "outputs": [
    {
     "data": {
      "text/plain": [
       "(327651, 2)"
      ]
     },
     "execution_count": 25,
     "metadata": {},
     "output_type": "execute_result"
    }
   ],
   "source": [
    "nft_nft_history_df.shape"
   ]
  },
  {
   "cell_type": "code",
   "execution_count": 26,
   "id": "5b40fcc0-4afd-4a33-83f0-1e7ac3f09c38",
   "metadata": {},
   "outputs": [
    {
     "data": {
      "text/html": [
       "<div>\n",
       "<style scoped>\n",
       "    .dataframe tbody tr th:only-of-type {\n",
       "        vertical-align: middle;\n",
       "    }\n",
       "\n",
       "    .dataframe tbody tr th {\n",
       "        vertical-align: top;\n",
       "    }\n",
       "\n",
       "    .dataframe thead th {\n",
       "        text-align: right;\n",
       "    }\n",
       "</style>\n",
       "<table border=\"1\" class=\"dataframe\">\n",
       "  <thead>\n",
       "    <tr style=\"text-align: right;\">\n",
       "      <th></th>\n",
       "      <th>count</th>\n",
       "      <th>unique</th>\n",
       "      <th>top</th>\n",
       "      <th>freq</th>\n",
       "    </tr>\n",
       "  </thead>\n",
       "  <tbody>\n",
       "    <tr>\n",
       "      <th>nft_id</th>\n",
       "      <td>327651</td>\n",
       "      <td>58871</td>\n",
       "      <td>0x3b3ee1931dc30c1957379fac9aba94d1c48a5405-46856</td>\n",
       "      <td>54</td>\n",
       "    </tr>\n",
       "    <tr>\n",
       "      <th>nft_history_id</th>\n",
       "      <td>327651</td>\n",
       "      <td>327651</td>\n",
       "      <td>0x03b1c1227402f5b139f6c3d3c34ec1ffda707553a5fd...</td>\n",
       "      <td>1</td>\n",
       "    </tr>\n",
       "  </tbody>\n",
       "</table>\n",
       "</div>"
      ],
      "text/plain": [
       "                 count  unique  \\\n",
       "nft_id          327651   58871   \n",
       "nft_history_id  327651  327651   \n",
       "\n",
       "                                                              top freq  \n",
       "nft_id           0x3b3ee1931dc30c1957379fac9aba94d1c48a5405-46856   54  \n",
       "nft_history_id  0x03b1c1227402f5b139f6c3d3c34ec1ffda707553a5fd...    1  "
      ]
     },
     "execution_count": 26,
     "metadata": {},
     "output_type": "execute_result"
    }
   ],
   "source": [
    "nft_nft_history_df.describe().T"
   ]
  },
  {
   "cell_type": "markdown",
   "id": "b8c76231-0fb1-4676-b7f4-4cd4bff8d3b1",
   "metadata": {},
   "source": [
    "## storing the data "
   ]
  },
  {
   "cell_type": "code",
   "execution_count": 27,
   "id": "7584aa9f-a0c8-4f6d-8b78-e669cb0e242e",
   "metadata": {},
   "outputs": [],
   "source": [
    "datapath = \"../data/raw/\"\n",
    "creator_df.to_csv(datapath + 'creator_df.csv', index = False)\n",
    "nft_sales_df.to_csv(datapath + 'nft_sales_df.csv', index = False)\n",
    "nft_metadata_df.to_csv(datapath + 'nft_metadata_df.csv', index = False)\n",
    "nft_bid_df.to_csv(datapath + 'nft_bid_df.csv', index = False)\n",
    "creator_nft_df.to_csv(datapath + 'creator_nft_df.csv', index = False)\n",
    "nft_nft_history_df.to_csv(datapath + 'nft_nft_history_df.csv', index = False)"
   ]
  }
 ],
 "metadata": {
  "kernelspec": {
   "display_name": "Python 3 (ipykernel)",
   "language": "python",
   "name": "python3"
  },
  "language_info": {
   "codemirror_mode": {
    "name": "ipython",
    "version": 3
   },
   "file_extension": ".py",
   "mimetype": "text/x-python",
   "name": "python",
   "nbconvert_exporter": "python",
   "pygments_lexer": "ipython3",
   "version": "3.9.7"
  }
 },
 "nbformat": 4,
 "nbformat_minor": 5
}
