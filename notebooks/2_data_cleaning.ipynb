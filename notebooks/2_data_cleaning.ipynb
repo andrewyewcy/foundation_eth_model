{
 "cells": [
  {
   "cell_type": "markdown",
   "id": "d2eeb502",
   "metadata": {},
   "source": [
    "# 2 Data Cleaning"
   ]
  },
  {
   "cell_type": "markdown",
   "id": "a0b42b3a-af92-48bf-b304-4bc69135a1f7",
   "metadata": {},
   "source": [
    "This notebook combines the various loose data tables from notebook 1 into a singular flat table for later use. NFTs with null values and / or 0 sales values were removed. In conclusion, a final flat table of 19 columns and 32949 rows of data was produced. Refer to Section 2.7 for preview of the final table."
   ]
  },
  {
   "cell_type": "code",
   "execution_count": 1,
   "id": "137e45bb",
   "metadata": {},
   "outputs": [],
   "source": [
    "import requests\n",
    "import json\n",
    "import pandas as pd\n",
    "import datetime\n",
    "import numpy as np\n",
    "\n",
    "pd.options.display.max_colwidth = 200"
   ]
  },
  {
   "cell_type": "markdown",
   "id": "5ccc7fb0",
   "metadata": {},
   "source": [
    "## 2.1 Loading the data"
   ]
  },
  {
   "cell_type": "code",
   "execution_count": 2,
   "id": "76cfc08d",
   "metadata": {},
   "outputs": [],
   "source": [
    "filepath = \"../data/raw/\"\n",
    "\n",
    "#data tables\n",
    "creator_df = pd.read_csv(filepath + 'creator_df.csv')\n",
    "nft_sales_df = pd.read_csv(filepath + 'nft_sales_df.csv')\n",
    "nft_bid_df = pd.read_csv(filepath + 'nft_bid_df.csv')\n",
    "nft_metadata_df = pd.read_csv(filepath + 'nft_metadata_df.csv')\n",
    "\n",
    "# connectors\n",
    "creator_nft_df = pd.read_csv(filepath + 'creator_nft_df.csv')\n",
    "nft_nft_history_df = pd.read_csv(filepath + 'nft_nft_history_df.csv')"
   ]
  },
  {
   "cell_type": "markdown",
   "id": "92b11566",
   "metadata": {},
   "source": [
    "## 2.2 Cleaning of creator_df data"
   ]
  },
  {
   "cell_type": "code",
   "execution_count": 3,
   "id": "a0c026be",
   "metadata": {},
   "outputs": [
    {
     "data": {
      "text/html": [
       "<div>\n",
       "<style scoped>\n",
       "    .dataframe tbody tr th:only-of-type {\n",
       "        vertical-align: middle;\n",
       "    }\n",
       "\n",
       "    .dataframe tbody tr th {\n",
       "        vertical-align: top;\n",
       "    }\n",
       "\n",
       "    .dataframe thead th {\n",
       "        text-align: right;\n",
       "    }\n",
       "</style>\n",
       "<table border=\"1\" class=\"dataframe\">\n",
       "  <thead>\n",
       "    <tr style=\"text-align: right;\">\n",
       "      <th></th>\n",
       "      <th>id</th>\n",
       "      <th>netRevenueInETH</th>\n",
       "      <th>netRevenuePendingInETH</th>\n",
       "      <th>netSalesInETH</th>\n",
       "      <th>netSalesPendingInETH</th>\n",
       "    </tr>\n",
       "  </thead>\n",
       "  <tbody>\n",
       "    <tr>\n",
       "      <th>0</th>\n",
       "      <td>0xf74d1224931afa9cf12d06092c1eb1818d1e255c</td>\n",
       "      <td>1890.400000</td>\n",
       "      <td>0.0</td>\n",
       "      <td>2224.000000</td>\n",
       "      <td>0.0</td>\n",
       "    </tr>\n",
       "    <tr>\n",
       "      <th>1</th>\n",
       "      <td>0x4666fd1f89576e2d6fb3f2ecec5eefd3e1ba6b59</td>\n",
       "      <td>1329.278945</td>\n",
       "      <td>0.0</td>\n",
       "      <td>1624.651700</td>\n",
       "      <td>0.0</td>\n",
       "    </tr>\n",
       "    <tr>\n",
       "      <th>2</th>\n",
       "      <td>0x484ec62385e780f2460feac34864a77ba5a18134</td>\n",
       "      <td>513.400000</td>\n",
       "      <td>0.0</td>\n",
       "      <td>604.000000</td>\n",
       "      <td>0.0</td>\n",
       "    </tr>\n",
       "    <tr>\n",
       "      <th>3</th>\n",
       "      <td>0x0624d062ae9dd596de0384d37522cde46cd500d6</td>\n",
       "      <td>425.000000</td>\n",
       "      <td>0.0</td>\n",
       "      <td>500.000000</td>\n",
       "      <td>0.0</td>\n",
       "    </tr>\n",
       "    <tr>\n",
       "      <th>4</th>\n",
       "      <td>0x0f441cfad93287109f5ef834bf52f4aaaa8d8ffa</td>\n",
       "      <td>380.005263</td>\n",
       "      <td>0.0</td>\n",
       "      <td>447.065016</td>\n",
       "      <td>0.0</td>\n",
       "    </tr>\n",
       "  </tbody>\n",
       "</table>\n",
       "</div>"
      ],
      "text/plain": [
       "                                           id  netRevenueInETH  \\\n",
       "0  0xf74d1224931afa9cf12d06092c1eb1818d1e255c      1890.400000   \n",
       "1  0x4666fd1f89576e2d6fb3f2ecec5eefd3e1ba6b59      1329.278945   \n",
       "2  0x484ec62385e780f2460feac34864a77ba5a18134       513.400000   \n",
       "3  0x0624d062ae9dd596de0384d37522cde46cd500d6       425.000000   \n",
       "4  0x0f441cfad93287109f5ef834bf52f4aaaa8d8ffa       380.005263   \n",
       "\n",
       "   netRevenuePendingInETH  netSalesInETH  netSalesPendingInETH  \n",
       "0                     0.0    2224.000000                   0.0  \n",
       "1                     0.0    1624.651700                   0.0  \n",
       "2                     0.0     604.000000                   0.0  \n",
       "3                     0.0     500.000000                   0.0  \n",
       "4                     0.0     447.065016                   0.0  "
      ]
     },
     "execution_count": 3,
     "metadata": {},
     "output_type": "execute_result"
    }
   ],
   "source": [
    "creator_df.head()"
   ]
  },
  {
   "cell_type": "markdown",
   "id": "eb0a5a66",
   "metadata": {},
   "source": [
    "According the Foundation API, the 'netRevenuePendingInETH' and 'netSalesPendingInETH' refers to part of total ETH sales for minted NFTs which transactions have not been finalized.  \n",
    "\n",
    "These columns are more indicative each creator/collectors choice in finalizing ETH transactions, and thus are not included in the analysis of ETH price of NFTs. "
   ]
  },
  {
   "cell_type": "code",
   "execution_count": 4,
   "id": "9cab3193",
   "metadata": {},
   "outputs": [],
   "source": [
    "creator_df.drop(['netRevenuePendingInETH', 'netSalesPendingInETH'], axis = 1, inplace = True);"
   ]
  },
  {
   "cell_type": "markdown",
   "id": "3dce0797",
   "metadata": {},
   "source": [
    "'netRevenueInETH' refers to the value in ETH earned by each creator after subtracting intermediary fees such as ETH gas fees.  \n",
    "'netSalesInETH' refers to the value in ETH for sales of NFTs by each creator.  \n",
    "\n",
    "To check, a new column 'c_rs_ratio' is created to check that net sales is always larger than net revenue. "
   ]
  },
  {
   "cell_type": "code",
   "execution_count": 5,
   "id": "cc0f13bf",
   "metadata": {},
   "outputs": [
    {
     "data": {
      "text/plain": [
       "(0, 4)"
      ]
     },
     "execution_count": 5,
     "metadata": {},
     "output_type": "execute_result"
    }
   ],
   "source": [
    "creator_df['c_rs_ratio'] = creator_df['netRevenueInETH'] / creator_df['netSalesInETH']\n",
    "creator_df[creator_df['c_rs_ratio'] > 1].shape"
   ]
  },
  {
   "cell_type": "markdown",
   "id": "17bb0dfa",
   "metadata": {},
   "source": [
    "Finally, the prefix \"c\" is added to each column name to signify info related to creator. The net sales and revenue columns can be used as a ranking system to rank creator by earnings, which could be a variable that affects NFT price.  \n",
    "\n",
    "Both the sales and revenue columns are kept in as there might be additional factors such as gas price aside from the 15% service fee charged by Foundation."
   ]
  },
  {
   "cell_type": "code",
   "execution_count": 6,
   "id": "f831f40a",
   "metadata": {},
   "outputs": [],
   "source": [
    "new_column_names = ['c_id', 'c_revenue', 'c_sales', 'c_rs_ratio']\n",
    "old_column_names = creator_df.columns\n",
    "column_change = {old_column_names[col]:new_column_names[col] for col in range(len(old_column_names))}\n",
    "creator_df.rename(columns = column_change, inplace = True);"
   ]
  },
  {
   "cell_type": "code",
   "execution_count": 7,
   "id": "eb2c959b",
   "metadata": {},
   "outputs": [
    {
     "data": {
      "text/plain": [
       "c_id          0\n",
       "c_revenue     0\n",
       "c_sales       0\n",
       "c_rs_ratio    0\n",
       "dtype: int64"
      ]
     },
     "execution_count": 7,
     "metadata": {},
     "output_type": "execute_result"
    }
   ],
   "source": [
    "creator_df.isnull().sum()"
   ]
  },
  {
   "cell_type": "markdown",
   "id": "edfcbf4e",
   "metadata": {},
   "source": [
    "## 2.3 Cleaning of nft_sales_df data"
   ]
  },
  {
   "cell_type": "code",
   "execution_count": 8,
   "id": "eda5c90c",
   "metadata": {},
   "outputs": [
    {
     "data": {
      "text/html": [
       "<div>\n",
       "<style scoped>\n",
       "    .dataframe tbody tr th:only-of-type {\n",
       "        vertical-align: middle;\n",
       "    }\n",
       "\n",
       "    .dataframe tbody tr th {\n",
       "        vertical-align: top;\n",
       "    }\n",
       "\n",
       "    .dataframe thead th {\n",
       "        text-align: right;\n",
       "    }\n",
       "</style>\n",
       "<table border=\"1\" class=\"dataframe\">\n",
       "  <thead>\n",
       "    <tr style=\"text-align: right;\">\n",
       "      <th></th>\n",
       "      <th>dateMinted</th>\n",
       "      <th>id</th>\n",
       "      <th>isFirstSale</th>\n",
       "      <th>lastSalePriceInETH</th>\n",
       "      <th>netRevenueInETH</th>\n",
       "      <th>netRevenuePendingInETH</th>\n",
       "      <th>netSalesInETH</th>\n",
       "      <th>netSalesPendingInETH</th>\n",
       "      <th>percentSplit</th>\n",
       "      <th>tokenIPFSPath</th>\n",
       "    </tr>\n",
       "  </thead>\n",
       "  <tbody>\n",
       "    <tr>\n",
       "      <th>0</th>\n",
       "      <td>1618452786</td>\n",
       "      <td>0x3b3ee1931dc30c1957379fac9aba94d1c48a5405-24437</td>\n",
       "      <td>False</td>\n",
       "      <td>2224.0000</td>\n",
       "      <td>1890.40000</td>\n",
       "      <td>12677.174465</td>\n",
       "      <td>2224.0000</td>\n",
       "      <td>14914.3229</td>\n",
       "      <td>NaN</td>\n",
       "      <td>QmNeqUFf3WKcXFEHgxFCrf3t8jrxyCkev6LBtRz78Ygq9u/metadata.json</td>\n",
       "    </tr>\n",
       "    <tr>\n",
       "      <th>1</th>\n",
       "      <td>1634633808</td>\n",
       "      <td>0x3b3ee1931dc30c1957379fac9aba94d1c48a5405-100052</td>\n",
       "      <td>False</td>\n",
       "      <td>49.5002</td>\n",
       "      <td>42.07517</td>\n",
       "      <td>158.788500</td>\n",
       "      <td>49.5002</td>\n",
       "      <td>186.8100</td>\n",
       "      <td>NaN</td>\n",
       "      <td>QmaW2ukMCqyMNg5qqoYsusgbNL9KRnFwRKCkBt6u3AiyTN/metadata.json</td>\n",
       "    </tr>\n",
       "    <tr>\n",
       "      <th>2</th>\n",
       "      <td>1634808905</td>\n",
       "      <td>0x3b3ee1931dc30c1957379fac9aba94d1c48a5405-100995</td>\n",
       "      <td>False</td>\n",
       "      <td>33.0000</td>\n",
       "      <td>3.30000</td>\n",
       "      <td>0.000000</td>\n",
       "      <td>33.0000</td>\n",
       "      <td>0.0000</td>\n",
       "      <td>NaN</td>\n",
       "      <td>QmdCKx9Q5b1G4vjbJ2wKSkCo3sWoUrg2hm5QTifNag5nXj/metadata.json</td>\n",
       "    </tr>\n",
       "    <tr>\n",
       "      <th>3</th>\n",
       "      <td>1634809019</td>\n",
       "      <td>0x3b3ee1931dc30c1957379fac9aba94d1c48a5405-100997</td>\n",
       "      <td>True</td>\n",
       "      <td>NaN</td>\n",
       "      <td>0.00000</td>\n",
       "      <td>0.000000</td>\n",
       "      <td>0.0000</td>\n",
       "      <td>0.0000</td>\n",
       "      <td>NaN</td>\n",
       "      <td>QmbeU7NQaLKou2MnVDguPBJTuX1r6qAdmZ3CaSKGtE75iW/metadata.json</td>\n",
       "    </tr>\n",
       "    <tr>\n",
       "      <th>4</th>\n",
       "      <td>1634809215</td>\n",
       "      <td>0x3b3ee1931dc30c1957379fac9aba94d1c48a5405-100998</td>\n",
       "      <td>True</td>\n",
       "      <td>NaN</td>\n",
       "      <td>0.00000</td>\n",
       "      <td>0.000000</td>\n",
       "      <td>0.0000</td>\n",
       "      <td>0.0000</td>\n",
       "      <td>NaN</td>\n",
       "      <td>QmUZ7gQDvFUWXmqTBY7FHgqVBCvzvxfNSf6vEZdVffsGpM/metadata.json</td>\n",
       "    </tr>\n",
       "  </tbody>\n",
       "</table>\n",
       "</div>"
      ],
      "text/plain": [
       "   dateMinted                                                 id  isFirstSale  \\\n",
       "0  1618452786   0x3b3ee1931dc30c1957379fac9aba94d1c48a5405-24437        False   \n",
       "1  1634633808  0x3b3ee1931dc30c1957379fac9aba94d1c48a5405-100052        False   \n",
       "2  1634808905  0x3b3ee1931dc30c1957379fac9aba94d1c48a5405-100995        False   \n",
       "3  1634809019  0x3b3ee1931dc30c1957379fac9aba94d1c48a5405-100997         True   \n",
       "4  1634809215  0x3b3ee1931dc30c1957379fac9aba94d1c48a5405-100998         True   \n",
       "\n",
       "   lastSalePriceInETH  netRevenueInETH  netRevenuePendingInETH  netSalesInETH  \\\n",
       "0           2224.0000       1890.40000            12677.174465      2224.0000   \n",
       "1             49.5002         42.07517              158.788500        49.5002   \n",
       "2             33.0000          3.30000                0.000000        33.0000   \n",
       "3                 NaN          0.00000                0.000000         0.0000   \n",
       "4                 NaN          0.00000                0.000000         0.0000   \n",
       "\n",
       "   netSalesPendingInETH percentSplit  \\\n",
       "0            14914.3229          NaN   \n",
       "1              186.8100          NaN   \n",
       "2                0.0000          NaN   \n",
       "3                0.0000          NaN   \n",
       "4                0.0000          NaN   \n",
       "\n",
       "                                                  tokenIPFSPath  \n",
       "0  QmNeqUFf3WKcXFEHgxFCrf3t8jrxyCkev6LBtRz78Ygq9u/metadata.json  \n",
       "1  QmaW2ukMCqyMNg5qqoYsusgbNL9KRnFwRKCkBt6u3AiyTN/metadata.json  \n",
       "2  QmdCKx9Q5b1G4vjbJ2wKSkCo3sWoUrg2hm5QTifNag5nXj/metadata.json  \n",
       "3  QmbeU7NQaLKou2MnVDguPBJTuX1r6qAdmZ3CaSKGtE75iW/metadata.json  \n",
       "4  QmUZ7gQDvFUWXmqTBY7FHgqVBCvzvxfNSf6vEZdVffsGpM/metadata.json  "
      ]
     },
     "execution_count": 8,
     "metadata": {},
     "output_type": "execute_result"
    }
   ],
   "source": [
    "nft_sales_df.head()"
   ]
  },
  {
   "cell_type": "markdown",
   "id": "3fa45424",
   "metadata": {},
   "source": [
    "Convert epoch time to date time for date_minted"
   ]
  },
  {
   "cell_type": "code",
   "execution_count": 9,
   "id": "d5f7d7f1",
   "metadata": {},
   "outputs": [],
   "source": [
    "nft_sales_df['n_date_minted'] = [datetime.datetime.fromtimestamp(nft_sales_df['dateMinted'][x]) for x in range(len(nft_sales_df['dateMinted']))];"
   ]
  },
  {
   "cell_type": "markdown",
   "id": "29680eb0",
   "metadata": {},
   "source": [
    "The \"percentSplit\" column contains more than 96% null and is removed. Pending ETH values are also removed."
   ]
  },
  {
   "cell_type": "code",
   "execution_count": 10,
   "id": "9d2ce43e",
   "metadata": {},
   "outputs": [
    {
     "data": {
      "text/plain": [
       "0.966224715281319"
      ]
     },
     "execution_count": 10,
     "metadata": {},
     "output_type": "execute_result"
    }
   ],
   "source": [
    "1 - nft_sales_df['percentSplit'].notnull().sum() / len(nft_sales_df['percentSplit'])"
   ]
  },
  {
   "cell_type": "code",
   "execution_count": 11,
   "id": "58629f3d",
   "metadata": {},
   "outputs": [],
   "source": [
    "nft_sales_df.drop(['netRevenuePendingInETH', 'netSalesPendingInETH', 'percentSplit', 'dateMinted'], axis = 1, inplace = True);"
   ]
  },
  {
   "cell_type": "code",
   "execution_count": 12,
   "id": "d5f3d1a4",
   "metadata": {},
   "outputs": [],
   "source": [
    "new_column_names = ['n_id', 'n_isFirstSale', 'n_lastSalePriceInETH', 'n_revenue', 'n_sales', 'n_tokenIPFSPath', 'n_date_minted']\n",
    "old_column_names = nft_sales_df.columns\n",
    "column_change = {old_column_names[col]:new_column_names[col] for col in range(len(old_column_names))}\n",
    "nft_sales_df.rename(columns = column_change, inplace = True);"
   ]
  },
  {
   "cell_type": "markdown",
   "id": "0cd1cc20",
   "metadata": {},
   "source": [
    "### Checking to make sure there are no erroneous data for sales and revenue"
   ]
  },
  {
   "cell_type": "code",
   "execution_count": 13,
   "id": "2f12fcce",
   "metadata": {},
   "outputs": [
    {
     "data": {
      "text/plain": [
       "(0, 8)"
      ]
     },
     "execution_count": 13,
     "metadata": {},
     "output_type": "execute_result"
    }
   ],
   "source": [
    "nft_sales_df['n_rs_ratio'] = nft_sales_df['n_revenue'] / nft_sales_df['n_sales'] \n",
    "nft_sales_df[nft_sales_df['n_rs_ratio'] > 1].shape"
   ]
  },
  {
   "cell_type": "code",
   "execution_count": 14,
   "id": "e7807079",
   "metadata": {},
   "outputs": [
    {
     "data": {
      "text/plain": [
       "n_id                        0\n",
       "n_isFirstSale               0\n",
       "n_lastSalePriceInETH    24337\n",
       "n_revenue                   0\n",
       "n_sales                     0\n",
       "n_tokenIPFSPath             0\n",
       "n_date_minted               0\n",
       "n_rs_ratio              24344\n",
       "dtype: int64"
      ]
     },
     "execution_count": 14,
     "metadata": {},
     "output_type": "execute_result"
    }
   ],
   "source": [
    "nft_sales_df.isnull().sum()"
   ]
  },
  {
   "cell_type": "markdown",
   "id": "dc137d7e",
   "metadata": {},
   "source": [
    "## 2.4 Cleaning of nft metadata"
   ]
  },
  {
   "cell_type": "code",
   "execution_count": 15,
   "id": "9ce25bb3",
   "metadata": {},
   "outputs": [
    {
     "data": {
      "text/html": [
       "<div>\n",
       "<style scoped>\n",
       "    .dataframe tbody tr th:only-of-type {\n",
       "        vertical-align: middle;\n",
       "    }\n",
       "\n",
       "    .dataframe tbody tr th {\n",
       "        vertical-align: top;\n",
       "    }\n",
       "\n",
       "    .dataframe thead th {\n",
       "        text-align: right;\n",
       "    }\n",
       "</style>\n",
       "<table border=\"1\" class=\"dataframe\">\n",
       "  <thead>\n",
       "    <tr style=\"text-align: right;\">\n",
       "      <th></th>\n",
       "      <th>tokenIPFS</th>\n",
       "      <th>name</th>\n",
       "      <th>description</th>\n",
       "      <th>image</th>\n",
       "    </tr>\n",
       "  </thead>\n",
       "  <tbody>\n",
       "    <tr>\n",
       "      <th>0</th>\n",
       "      <td>QmNeqUFf3WKcXFEHgxFCrf3t8jrxyCkev6LBtRz78Ygq9u/metadata.json</td>\n",
       "      <td>Stay Free (Edward Snowden, 2021)</td>\n",
       "      <td>This unique, signed work combines the entirety of a landmark court decision ruling the National Security Agency's mass surveillance violated the law, with the iconic portrait of the whistleblower ...</td>\n",
       "      <td>ipfs://QmTKdyzYbT9FzAs8mB4HGiLDR7o8maRP34J5iNDFZQqndQ/nft.png</td>\n",
       "    </tr>\n",
       "    <tr>\n",
       "      <th>1</th>\n",
       "      <td>QmaW2ukMCqyMNg5qqoYsusgbNL9KRnFwRKCkBt6u3AiyTN/metadata.json</td>\n",
       "      <td>PORTAL 07</td>\n",
       "      <td>Possession of this PORTAL entitles you to membership in the TBOA club (theblocksofart.com)\\n\\n10000x10000</td>\n",
       "      <td>ipfs://QmYChA4jtLhiMLPhDZv1t3xGZ1uj46yG4dtzCygUjgdhz7/nft.png</td>\n",
       "    </tr>\n",
       "    <tr>\n",
       "      <th>2</th>\n",
       "      <td>QmdCKx9Q5b1G4vjbJ2wKSkCo3sWoUrg2hm5QTifNag5nXj/metadata.json</td>\n",
       "      <td>PORTAL 08</td>\n",
       "      <td>Possession of this PORTAL entitles you to membership in the TBOA club (tboa.club)\\n\\n444(4) Edition\\n\\n10000x10000</td>\n",
       "      <td>ipfs://Qmbd3CzQMBPYeYBiMWe7U2bTWCyRusEjcMB3Ck84LcDbGc/nft.png</td>\n",
       "    </tr>\n",
       "    <tr>\n",
       "      <th>3</th>\n",
       "      <td>QmbeU7NQaLKou2MnVDguPBJTuX1r6qAdmZ3CaSKGtE75iW/metadata.json</td>\n",
       "      <td>PORTAL 09</td>\n",
       "      <td>Possession of this PORTAL entitles you to membership in the TBOA club (tboa.club)\\n\\n444(4) Edition\\n\\n10000x10000</td>\n",
       "      <td>ipfs://QmPMqidEE76so1tksfE1DMMheohB3NUzVVhZBx5VJXbRkz/nft.png</td>\n",
       "    </tr>\n",
       "    <tr>\n",
       "      <th>4</th>\n",
       "      <td>QmUZ7gQDvFUWXmqTBY7FHgqVBCvzvxfNSf6vEZdVffsGpM/metadata.json</td>\n",
       "      <td>PORTAL 10</td>\n",
       "      <td>Possession of this PORTAL entitles you to membership in the TBOA club (tboa.club)\\n\\n444(4) Edition\\n\\n10000x10000</td>\n",
       "      <td>ipfs://QmZATpHmc3f5vxaVAzKCveEWdNR5jDUWY9Cyqv3pMiXJbP/nft.png</td>\n",
       "    </tr>\n",
       "  </tbody>\n",
       "</table>\n",
       "</div>"
      ],
      "text/plain": [
       "                                                      tokenIPFS  \\\n",
       "0  QmNeqUFf3WKcXFEHgxFCrf3t8jrxyCkev6LBtRz78Ygq9u/metadata.json   \n",
       "1  QmaW2ukMCqyMNg5qqoYsusgbNL9KRnFwRKCkBt6u3AiyTN/metadata.json   \n",
       "2  QmdCKx9Q5b1G4vjbJ2wKSkCo3sWoUrg2hm5QTifNag5nXj/metadata.json   \n",
       "3  QmbeU7NQaLKou2MnVDguPBJTuX1r6qAdmZ3CaSKGtE75iW/metadata.json   \n",
       "4  QmUZ7gQDvFUWXmqTBY7FHgqVBCvzvxfNSf6vEZdVffsGpM/metadata.json   \n",
       "\n",
       "                               name  \\\n",
       "0  Stay Free (Edward Snowden, 2021)   \n",
       "1                         PORTAL 07   \n",
       "2                         PORTAL 08   \n",
       "3                         PORTAL 09   \n",
       "4                         PORTAL 10   \n",
       "\n",
       "                                                                                                                                                                                               description  \\\n",
       "0  This unique, signed work combines the entirety of a landmark court decision ruling the National Security Agency's mass surveillance violated the law, with the iconic portrait of the whistleblower ...   \n",
       "1                                                                                                Possession of this PORTAL entitles you to membership in the TBOA club (theblocksofart.com)\\n\\n10000x10000   \n",
       "2                                                                                       Possession of this PORTAL entitles you to membership in the TBOA club (tboa.club)\\n\\n444(4) Edition\\n\\n10000x10000   \n",
       "3                                                                                       Possession of this PORTAL entitles you to membership in the TBOA club (tboa.club)\\n\\n444(4) Edition\\n\\n10000x10000   \n",
       "4                                                                                       Possession of this PORTAL entitles you to membership in the TBOA club (tboa.club)\\n\\n444(4) Edition\\n\\n10000x10000   \n",
       "\n",
       "                                                           image  \n",
       "0  ipfs://QmTKdyzYbT9FzAs8mB4HGiLDR7o8maRP34J5iNDFZQqndQ/nft.png  \n",
       "1  ipfs://QmYChA4jtLhiMLPhDZv1t3xGZ1uj46yG4dtzCygUjgdhz7/nft.png  \n",
       "2  ipfs://Qmbd3CzQMBPYeYBiMWe7U2bTWCyRusEjcMB3Ck84LcDbGc/nft.png  \n",
       "3  ipfs://QmPMqidEE76so1tksfE1DMMheohB3NUzVVhZBx5VJXbRkz/nft.png  \n",
       "4  ipfs://QmZATpHmc3f5vxaVAzKCveEWdNR5jDUWY9Cyqv3pMiXJbP/nft.png  "
      ]
     },
     "execution_count": 15,
     "metadata": {},
     "output_type": "execute_result"
    }
   ],
   "source": [
    "nft_metadata_df.head()"
   ]
  },
  {
   "cell_type": "code",
   "execution_count": 16,
   "id": "2a4e95d4",
   "metadata": {},
   "outputs": [],
   "source": [
    "new_column_names = ['m_tokenIPFS', 'm_name', 'm_desc', 'm_img']\n",
    "old_column_names = nft_metadata_df.columns\n",
    "column_change = {old_column_names[col]:new_column_names[col] for col in range(len(old_column_names))}\n",
    "nft_metadata_df.rename(columns = column_change, inplace = True);"
   ]
  },
  {
   "cell_type": "code",
   "execution_count": 17,
   "id": "2f40e3b7",
   "metadata": {},
   "outputs": [
    {
     "data": {
      "text/plain": [
       "m_tokenIPFS       0\n",
       "m_name            3\n",
       "m_desc         1238\n",
       "m_img             2\n",
       "dtype: int64"
      ]
     },
     "execution_count": 17,
     "metadata": {},
     "output_type": "execute_result"
    }
   ],
   "source": [
    "nft_metadata_df.isnull().sum()"
   ]
  },
  {
   "cell_type": "markdown",
   "id": "17eb5e6d",
   "metadata": {},
   "source": [
    "## 2.5 Cleaning of nft bid_data using connector \"nft_nft_history_df\""
   ]
  },
  {
   "cell_type": "code",
   "execution_count": 18,
   "id": "35533fc5",
   "metadata": {},
   "outputs": [],
   "source": [
    "nft_bid_df = pd.merge(nft_bid_df, nft_nft_history_df, how = \"left\", left_on = \"id\", right_on = \"nft_history_id\", validate = \"one_to_one\")"
   ]
  },
  {
   "cell_type": "markdown",
   "id": "db8dd8ef",
   "metadata": {},
   "source": [
    "#### Generate descriptive metrics for events (pivot then flatten back to dataframe)"
   ]
  },
  {
   "cell_type": "code",
   "execution_count": 19,
   "id": "1f94988f",
   "metadata": {},
   "outputs": [],
   "source": [
    "nft_bid_df_pivot = pd.pivot_table(nft_bid_df,\n",
    "                                  index = [\"nft_id\", \"event\"],\n",
    "                                   values = [\"amountInETH\"],\n",
    "                                   aggfunc = {\"amountInETH\":[min, max, np.mean, len]}\n",
    "                                  )\n",
    "nft_bid_df = pd.DataFrame(nft_bid_df_pivot.to_records())"
   ]
  },
  {
   "cell_type": "markdown",
   "id": "e66cfa5d",
   "metadata": {},
   "source": [
    "#### Only the listed, bid, sold, and private sale events are preserved, where private sale is treated as equal to sale"
   ]
  },
  {
   "cell_type": "code",
   "execution_count": 20,
   "id": "0fc1f7b1",
   "metadata": {},
   "outputs": [
    {
     "data": {
      "text/plain": [
       "Minted                           58862\n",
       "Listed                           55755\n",
       "Bid                              33969\n",
       "Settled                          33837\n",
       "Sold                             33837\n",
       "PriceChanged                     17356\n",
       "Unlisted                          8700\n",
       "Burned                            7036\n",
       "Transferred                       6605\n",
       "PrivateSale                        701\n",
       "CreatorMigrated                    346\n",
       "SellerMigrated                      85\n",
       "OwnerMigrated                       44\n",
       "CreatorPaymentAddressMigrated       16\n",
       "Name: event, dtype: int64"
      ]
     },
     "execution_count": 20,
     "metadata": {},
     "output_type": "execute_result"
    }
   ],
   "source": [
    "nft_bid_df['event'].value_counts()"
   ]
  },
  {
   "cell_type": "code",
   "execution_count": 21,
   "id": "39bb58a8",
   "metadata": {},
   "outputs": [],
   "source": [
    "nft_bid_df = nft_bid_df[nft_bid_df['event'].isin(['Bid', 'Listed', 'Sold','PrivateSale'])]\n",
    "nft_bid_df['event'].replace('PrivateSale','Sold', inplace = True);"
   ]
  },
  {
   "cell_type": "markdown",
   "id": "19a8977c",
   "metadata": {},
   "source": [
    "#### Pivot once more to reduce bid, list, and sale details down to one row per nft"
   ]
  },
  {
   "cell_type": "code",
   "execution_count": 22,
   "id": "7edcc6ab",
   "metadata": {},
   "outputs": [],
   "source": [
    "nft_bid_df = pd.pivot_table(nft_bid_df,\n",
    "                            index = \"nft_id\",\n",
    "                            columns = \"event\")\n",
    "nft_bid_df = pd.DataFrame(nft_bid_df.to_records())"
   ]
  },
  {
   "cell_type": "markdown",
   "id": "1606f51e",
   "metadata": {},
   "source": [
    "#### Tidy up columns"
   ]
  },
  {
   "cell_type": "code",
   "execution_count": 23,
   "id": "f0954338",
   "metadata": {},
   "outputs": [],
   "source": [
    "columns_to_drop =  ['(\"(\\'amountInETH\\', \\'len\\')\", \\'Listed\\')',\n",
    " '(\"(\\'amountInETH\\', \\'len\\')\", \\'Sold\\')',\n",
    " '(\"(\\'amountInETH\\', \\'mean\\')\", \\'Listed\\')',\n",
    " '(\"(\\'amountInETH\\', \\'mean\\')\", \\'Sold\\')',\n",
    " '(\"(\\'amountInETH\\', \\'min\\')\", \\'Listed\\')',\n",
    " '(\"(\\'amountInETH\\', \\'min\\')\", \\'Sold\\')']\n",
    "nft_bid_df.drop(columns_to_drop, axis = 1, inplace = True)"
   ]
  },
  {
   "cell_type": "code",
   "execution_count": 24,
   "id": "9db372a7",
   "metadata": {},
   "outputs": [],
   "source": [
    "old_column_names = nft_bid_df.columns\n",
    "new_column_names =  ['n_id','n_bid_count','n_bid_max','n_list_max','n_sold_max','n_bid_max','n_bid_min']\n",
    "column_change = {old_column_names[col]:new_column_names[col] for col in range(len(old_column_names))}\n",
    "nft_bid_df.rename(columns = column_change, inplace = True);"
   ]
  },
  {
   "cell_type": "code",
   "execution_count": 25,
   "id": "f8b75823",
   "metadata": {},
   "outputs": [
    {
     "data": {
      "text/plain": [
       "n_id               0\n",
       "n_bid_count    22208\n",
       "n_bid_max      22208\n",
       "n_list_max       422\n",
       "n_sold_max     21670\n",
       "n_bid_max      22208\n",
       "n_bid_min      22208\n",
       "dtype: int64"
      ]
     },
     "execution_count": 25,
     "metadata": {},
     "output_type": "execute_result"
    }
   ],
   "source": [
    "nft_bid_df.isnull().sum()"
   ]
  },
  {
   "cell_type": "markdown",
   "id": "99de60b7",
   "metadata": {},
   "source": [
    "## 2.6 Combining all tables into flat table for data analysis"
   ]
  },
  {
   "cell_type": "code",
   "execution_count": 26,
   "id": "a2b7f666",
   "metadata": {},
   "outputs": [
    {
     "name": "stdout",
     "output_type": "stream",
     "text": [
      "creator_df :(6000, 4)\n",
      "nft_sales_df :(58830, 8)\n",
      "nft_metadata_df :(58720, 4)\n",
      "nft_bid_df :(56177, 7)\n",
      "creator_nft_df :(58904, 2)\n",
      "nft_nft_history_df :(327651, 2)\n"
     ]
    }
   ],
   "source": [
    "print(\"creator_df :\" + str(creator_df.shape))\n",
    "print(\"nft_sales_df :\" + str(nft_sales_df.shape))\n",
    "print(\"nft_metadata_df :\" + str(nft_metadata_df.shape))\n",
    "print(\"nft_bid_df :\" + str(nft_bid_df.shape))\n",
    "\n",
    "print(\"creator_nft_df :\" + str(creator_nft_df.shape))\n",
    "print(\"nft_nft_history_df :\" + str(nft_nft_history_df.shape))"
   ]
  },
  {
   "cell_type": "markdown",
   "id": "bd9e8add",
   "metadata": {},
   "source": [
    "### Cleaning the connector \"creator_nft_df\"\n",
    "Drop records where nft_id is null in \"creator_nft_df\", likely due to being system transactions in processing."
   ]
  },
  {
   "cell_type": "code",
   "execution_count": 27,
   "id": "d75ff718",
   "metadata": {},
   "outputs": [
    {
     "name": "stdout",
     "output_type": "stream",
     "text": [
      "Before dropping null nft_id :(58904, 2)\n",
      "After dropping null nft_id :(58871, 2)\n"
     ]
    }
   ],
   "source": [
    "print(\"Before dropping null nft_id :\" + str(creator_nft_df.shape))\n",
    "creator_nft_df = creator_nft_df[creator_nft_df.nft_id.notnull()]\n",
    "print(\"After dropping null nft_id :\" + str(creator_nft_df.shape))"
   ]
  },
  {
   "cell_type": "markdown",
   "id": "ba9d37a3-6a1c-4f92-8884-4ecdb24ce820",
   "metadata": {},
   "source": [
    "### Combining \"nft_sales_df\" with \"creator_df\" by using connector \"creator_nft_df\""
   ]
  },
  {
   "cell_type": "code",
   "execution_count": 28,
   "id": "813c6bca",
   "metadata": {},
   "outputs": [
    {
     "name": "stdout",
     "output_type": "stream",
     "text": [
      "Before combining :(58830, 8)\n",
      "After combining :(58830, 9)\n"
     ]
    }
   ],
   "source": [
    "print(\"Before combining :\" + str(nft_sales_df.shape))\n",
    "nft_combined = pd.merge(nft_sales_df, creator_nft_df, how = \"left\", left_on = \"n_id\", right_on = \"nft_id\", validate = \"one_to_one\")\n",
    "nft_combined.drop('nft_id', axis = 1, inplace = True)\n",
    "print(\"After combining :\" + str(nft_combined.shape))"
   ]
  },
  {
   "cell_type": "code",
   "execution_count": 29,
   "id": "8ad37faf",
   "metadata": {},
   "outputs": [
    {
     "name": "stdout",
     "output_type": "stream",
     "text": [
      "Before combining :(58830, 9)\n",
      "After combining :(58830, 12)\n"
     ]
    }
   ],
   "source": [
    "print(\"Before combining :\" + str(nft_combined.shape))\n",
    "nft_combined = pd.merge(nft_combined, creator_df, how = \"left\", left_on = \"creator_id\", right_on = \"c_id\", validate = \"many_to_one\")\n",
    "nft_combined.drop('creator_id', axis = 1, inplace = True)\n",
    "print(\"After combining :\" + str(nft_combined.shape))"
   ]
  },
  {
   "cell_type": "code",
   "execution_count": 30,
   "id": "0ca7c841",
   "metadata": {},
   "outputs": [],
   "source": [
    "nft_combined = pd.merge(nft_combined, nft_metadata_df, how = \"left\", left_on = \"n_tokenIPFSPath\", right_on = \"m_tokenIPFS\", validate = \"many_to_one\")\n",
    "nft_combined.drop('m_tokenIPFS', axis = 1, inplace = True)"
   ]
  },
  {
   "cell_type": "markdown",
   "id": "e9f806be-7312-4b93-86b2-2573db13ecee",
   "metadata": {},
   "source": [
    "### Further combining with \"nft_bid_df\", whose connector has already been attached in 2.5"
   ]
  },
  {
   "cell_type": "code",
   "execution_count": 31,
   "id": "776552cd",
   "metadata": {},
   "outputs": [
    {
     "name": "stdout",
     "output_type": "stream",
     "text": [
      "Before combining :(58830, 15)\n",
      "After combining :(58830, 21)\n"
     ]
    }
   ],
   "source": [
    "print(\"Before combining :\" + str(nft_combined.shape))\n",
    "nft_combined = pd.merge(nft_combined, nft_bid_df, how = \"left\", left_on = \"n_id\", right_on = \"n_id\", validate = \"one_to_one\")\n",
    "print(\"After combining :\" + str(nft_combined.shape))"
   ]
  },
  {
   "cell_type": "markdown",
   "id": "d7f8e131-3372-49a3-ac39-5e855d1c7d76",
   "metadata": {},
   "source": [
    "### Further combining with \"nft_metadata_df\", and dropping any NFTs with duplicate IPFS"
   ]
  },
  {
   "cell_type": "code",
   "execution_count": 32,
   "id": "d50e6a9e",
   "metadata": {
    "tags": []
   },
   "outputs": [
    {
     "name": "stdout",
     "output_type": "stream",
     "text": [
      "Before dropping duplicate IPFS (58830, 21)\n",
      "After dropping duplicate IPFS (58720, 21)\n"
     ]
    }
   ],
   "source": [
    "nft_combined_duplicate_IPFS = nft_combined[nft_combined['n_tokenIPFSPath'].duplicated() == True].sort_values(by = \"n_tokenIPFSPath\")\n",
    "print(\"Before dropping duplicate IPFS \"+ str(nft_combined.shape))\n",
    "nft_combined.drop(nft_combined[nft_combined['n_tokenIPFSPath'].duplicated() == True].index, inplace = True)\n",
    "print(\"After dropping duplicate IPFS \" + str(nft_combined.shape))"
   ]
  },
  {
   "cell_type": "code",
   "execution_count": 33,
   "id": "bbabcef7-2574-4916-b0f1-3f5fec5d85ce",
   "metadata": {},
   "outputs": [
    {
     "name": "stdout",
     "output_type": "stream",
     "text": [
      "Before combining :(58720, 21)\n",
      "After combining :(58720, 24)\n"
     ]
    }
   ],
   "source": [
    "print(\"Before combining :\" + str(nft_combined.shape))\n",
    "nft_combined = pd.merge(nft_combined, nft_metadata_df, how = \"left\", left_on = \"n_tokenIPFSPath\", right_on = \"m_tokenIPFS\", validate = \"one_to_one\")\n",
    "nft_combined.drop('m_tokenIPFS',axis = 1, inplace = True)\n",
    "print(\"After combining :\" + str(nft_combined.shape))"
   ]
  },
  {
   "cell_type": "markdown",
   "id": "9d1a0e11",
   "metadata": {},
   "source": [
    "## 2.7 Tidying up the final table"
   ]
  },
  {
   "cell_type": "markdown",
   "id": "b40b9305",
   "metadata": {},
   "source": [
    "As the project is to develop a model for nft prices, only records where lastSalePriceInETH is not null and not zero is preserved."
   ]
  },
  {
   "cell_type": "code",
   "execution_count": 34,
   "id": "9e749f75",
   "metadata": {},
   "outputs": [
    {
     "name": "stdout",
     "output_type": "stream",
     "text": [
      "Before removing nulls and zeros for sale price(58720, 24)\n",
      "After removing nulls (34446, 24)\n",
      "After removing zeros (34437, 24)\n"
     ]
    }
   ],
   "source": [
    "print(\"Before removing nulls and zeros for sale price\" + str(nft_combined.shape))\n",
    "nft_combined =  nft_combined[nft_combined.n_lastSalePriceInETH.notnull()]\n",
    "print(\"After removing nulls \" + str(nft_combined.shape))\n",
    "nft_combined =  nft_combined[nft_combined['n_lastSalePriceInETH']!= 0]\n",
    "print(\"After removing zeros \" + str(nft_combined.shape))"
   ]
  },
  {
   "cell_type": "markdown",
   "id": "40f3f61d",
   "metadata": {},
   "source": [
    "Checking if data from bid table matches with nft table, then removing records with mismatch."
   ]
  },
  {
   "cell_type": "code",
   "execution_count": 35,
   "id": "399a0cf1",
   "metadata": {},
   "outputs": [
    {
     "data": {
      "text/plain": [
       "135"
      ]
     },
     "execution_count": 35,
     "metadata": {},
     "output_type": "execute_result"
    }
   ],
   "source": [
    "(nft_combined['n_lastSalePriceInETH']!=nft_combined['n_sold_max']).sum() "
   ]
  },
  {
   "cell_type": "code",
   "execution_count": 36,
   "id": "e91cced4",
   "metadata": {},
   "outputs": [
    {
     "name": "stdout",
     "output_type": "stream",
     "text": [
      "Before removing mismatch in sale (34437, 24)\n",
      "After removing mismatch in sale (34302, 24)\n"
     ]
    }
   ],
   "source": [
    "# Come back to check how come the prices dont match for 135 records (check against all 3 sales columns)\n",
    "nft_sales_mismatch = nft_combined[nft_combined['n_lastSalePriceInETH']!=nft_combined['n_sold_max']]\n",
    "\n",
    "print(\"Before removing mismatch in sale \" + str(nft_combined.shape))\n",
    "nft_combined =  nft_combined[nft_combined['n_lastSalePriceInETH'] == nft_combined['n_sold_max']]\n",
    "print(\"After removing mismatch in sale \" + str(nft_combined.shape))"
   ]
  },
  {
   "cell_type": "code",
   "execution_count": 37,
   "id": "645cece8",
   "metadata": {},
   "outputs": [
    {
     "name": "stdout",
     "output_type": "stream",
     "text": [
      "Before dropping rows with any null values and repetitive sales columns (34302, 24)\n",
      "After dropping rows with any null values and repetitive sales columns (32949, 22)\n"
     ]
    }
   ],
   "source": [
    "print(\"Before dropping rows with any null values and repetitive sales columns \" + str(nft_combined.shape))\n",
    "nft_combined.drop(['n_sales','n_sold_max'],axis = 1, inplace = True)\n",
    "nft_combined.dropna(inplace = True)\n",
    "print(\"After dropping rows with any null values and repetitive sales columns \" + str(nft_combined.shape))"
   ]
  },
  {
   "cell_type": "code",
   "execution_count": null,
   "id": "9f1a2354-8b98-4d80-871b-82ab84729ff8",
   "metadata": {},
   "outputs": [],
   "source": []
  },
  {
   "cell_type": "code",
   "execution_count": 38,
   "id": "7d47da04",
   "metadata": {},
   "outputs": [
    {
     "name": "stdout",
     "output_type": "stream",
     "text": [
      "<class 'pandas.core.frame.DataFrame'>\n",
      "Int64Index: 32949 entries, 0 to 58664\n",
      "Data columns (total 22 columns):\n",
      " #   Column                Non-Null Count  Dtype         \n",
      "---  ------                --------------  -----         \n",
      " 0   n_id                  32949 non-null  object        \n",
      " 1   n_isFirstSale         32949 non-null  bool          \n",
      " 2   n_lastSalePriceInETH  32949 non-null  float64       \n",
      " 3   n_revenue             32949 non-null  float64       \n",
      " 4   n_tokenIPFSPath       32949 non-null  object        \n",
      " 5   n_date_minted         32949 non-null  datetime64[ns]\n",
      " 6   n_rs_ratio            32949 non-null  float64       \n",
      " 7   c_id                  32949 non-null  object        \n",
      " 8   c_revenue             32949 non-null  float64       \n",
      " 9   c_sales               32949 non-null  float64       \n",
      " 10  c_rs_ratio            32949 non-null  float64       \n",
      " 11  m_name_x              32949 non-null  object        \n",
      " 12  m_desc_x              32949 non-null  object        \n",
      " 13  m_img_x               32949 non-null  object        \n",
      " 14  n_bid_count           32949 non-null  float64       \n",
      " 15  n_bid_max             32949 non-null  float64       \n",
      " 16  n_list_max            32949 non-null  float64       \n",
      " 17  n_bid_max             32949 non-null  float64       \n",
      " 18  n_bid_min             32949 non-null  float64       \n",
      " 19  m_name_y              32949 non-null  object        \n",
      " 20  m_desc_y              32949 non-null  object        \n",
      " 21  m_img_y               32949 non-null  object        \n",
      "dtypes: bool(1), datetime64[ns](1), float64(11), object(9)\n",
      "memory usage: 5.6+ MB\n"
     ]
    }
   ],
   "source": [
    "nft_combined.info()"
   ]
  },
  {
   "cell_type": "code",
   "execution_count": 39,
   "id": "9c84d9ef",
   "metadata": {},
   "outputs": [
    {
     "data": {
      "text/html": [
       "<div>\n",
       "<style scoped>\n",
       "    .dataframe tbody tr th:only-of-type {\n",
       "        vertical-align: middle;\n",
       "    }\n",
       "\n",
       "    .dataframe tbody tr th {\n",
       "        vertical-align: top;\n",
       "    }\n",
       "\n",
       "    .dataframe thead th {\n",
       "        text-align: right;\n",
       "    }\n",
       "</style>\n",
       "<table border=\"1\" class=\"dataframe\">\n",
       "  <thead>\n",
       "    <tr style=\"text-align: right;\">\n",
       "      <th></th>\n",
       "      <th>count</th>\n",
       "      <th>mean</th>\n",
       "      <th>std</th>\n",
       "      <th>min</th>\n",
       "      <th>25%</th>\n",
       "      <th>50%</th>\n",
       "      <th>75%</th>\n",
       "      <th>max</th>\n",
       "    </tr>\n",
       "  </thead>\n",
       "  <tbody>\n",
       "    <tr>\n",
       "      <th>n_lastSalePriceInETH</th>\n",
       "      <td>32949.0</td>\n",
       "      <td>1.201182</td>\n",
       "      <td>13.919724</td>\n",
       "      <td>0.100</td>\n",
       "      <td>0.221000</td>\n",
       "      <td>0.456000</td>\n",
       "      <td>1.000000</td>\n",
       "      <td>2224.000000</td>\n",
       "    </tr>\n",
       "    <tr>\n",
       "      <th>n_revenue</th>\n",
       "      <td>32949.0</td>\n",
       "      <td>1.003223</td>\n",
       "      <td>11.822034</td>\n",
       "      <td>0.011</td>\n",
       "      <td>0.187085</td>\n",
       "      <td>0.382500</td>\n",
       "      <td>0.850000</td>\n",
       "      <td>1890.400000</td>\n",
       "    </tr>\n",
       "    <tr>\n",
       "      <th>n_rs_ratio</th>\n",
       "      <td>32949.0</td>\n",
       "      <td>0.839423</td>\n",
       "      <td>0.076182</td>\n",
       "      <td>0.100</td>\n",
       "      <td>0.850000</td>\n",
       "      <td>0.850000</td>\n",
       "      <td>0.850000</td>\n",
       "      <td>0.927778</td>\n",
       "    </tr>\n",
       "    <tr>\n",
       "      <th>c_revenue</th>\n",
       "      <td>32949.0</td>\n",
       "      <td>14.091949</td>\n",
       "      <td>74.878453</td>\n",
       "      <td>0.100</td>\n",
       "      <td>1.657500</td>\n",
       "      <td>3.843205</td>\n",
       "      <td>9.141325</td>\n",
       "      <td>1890.400000</td>\n",
       "    </tr>\n",
       "    <tr>\n",
       "      <th>c_sales</th>\n",
       "      <td>32949.0</td>\n",
       "      <td>17.334503</td>\n",
       "      <td>91.623301</td>\n",
       "      <td>0.733</td>\n",
       "      <td>1.986100</td>\n",
       "      <td>4.650000</td>\n",
       "      <td>11.220000</td>\n",
       "      <td>2224.000000</td>\n",
       "    </tr>\n",
       "    <tr>\n",
       "      <th>c_rs_ratio</th>\n",
       "      <td>32949.0</td>\n",
       "      <td>0.829179</td>\n",
       "      <td>0.058666</td>\n",
       "      <td>0.100</td>\n",
       "      <td>0.850000</td>\n",
       "      <td>0.850000</td>\n",
       "      <td>0.850000</td>\n",
       "      <td>0.850000</td>\n",
       "    </tr>\n",
       "    <tr>\n",
       "      <th>n_bid_count</th>\n",
       "      <td>32949.0</td>\n",
       "      <td>2.412000</td>\n",
       "      <td>2.915893</td>\n",
       "      <td>1.000</td>\n",
       "      <td>1.000000</td>\n",
       "      <td>1.000000</td>\n",
       "      <td>3.000000</td>\n",
       "      <td>43.000000</td>\n",
       "    </tr>\n",
       "    <tr>\n",
       "      <th>n_bid_max</th>\n",
       "      <td>32949.0</td>\n",
       "      <td>1.201922</td>\n",
       "      <td>13.920341</td>\n",
       "      <td>0.100</td>\n",
       "      <td>0.221000</td>\n",
       "      <td>0.456000</td>\n",
       "      <td>1.000000</td>\n",
       "      <td>2224.000000</td>\n",
       "    </tr>\n",
       "    <tr>\n",
       "      <th>n_list_max</th>\n",
       "      <td>32949.0</td>\n",
       "      <td>9.486055</td>\n",
       "      <td>725.354380</td>\n",
       "      <td>0.100</td>\n",
       "      <td>0.250000</td>\n",
       "      <td>0.500000</td>\n",
       "      <td>1.000000</td>\n",
       "      <td>100000.000000</td>\n",
       "    </tr>\n",
       "    <tr>\n",
       "      <th>n_bid_max</th>\n",
       "      <td>32949.0</td>\n",
       "      <td>0.826156</td>\n",
       "      <td>3.697942</td>\n",
       "      <td>0.100</td>\n",
       "      <td>0.200000</td>\n",
       "      <td>0.400000</td>\n",
       "      <td>0.925000</td>\n",
       "      <td>552.849126</td>\n",
       "    </tr>\n",
       "    <tr>\n",
       "      <th>n_bid_min</th>\n",
       "      <td>32949.0</td>\n",
       "      <td>0.627629</td>\n",
       "      <td>1.011382</td>\n",
       "      <td>0.100</td>\n",
       "      <td>0.200000</td>\n",
       "      <td>0.350000</td>\n",
       "      <td>0.777000</td>\n",
       "      <td>50.000000</td>\n",
       "    </tr>\n",
       "  </tbody>\n",
       "</table>\n",
       "</div>"
      ],
      "text/plain": [
       "                        count       mean         std    min       25%  \\\n",
       "n_lastSalePriceInETH  32949.0   1.201182   13.919724  0.100  0.221000   \n",
       "n_revenue             32949.0   1.003223   11.822034  0.011  0.187085   \n",
       "n_rs_ratio            32949.0   0.839423    0.076182  0.100  0.850000   \n",
       "c_revenue             32949.0  14.091949   74.878453  0.100  1.657500   \n",
       "c_sales               32949.0  17.334503   91.623301  0.733  1.986100   \n",
       "c_rs_ratio            32949.0   0.829179    0.058666  0.100  0.850000   \n",
       "n_bid_count           32949.0   2.412000    2.915893  1.000  1.000000   \n",
       "n_bid_max             32949.0   1.201922   13.920341  0.100  0.221000   \n",
       "n_list_max            32949.0   9.486055  725.354380  0.100  0.250000   \n",
       "n_bid_max             32949.0   0.826156    3.697942  0.100  0.200000   \n",
       "n_bid_min             32949.0   0.627629    1.011382  0.100  0.200000   \n",
       "\n",
       "                           50%        75%            max  \n",
       "n_lastSalePriceInETH  0.456000   1.000000    2224.000000  \n",
       "n_revenue             0.382500   0.850000    1890.400000  \n",
       "n_rs_ratio            0.850000   0.850000       0.927778  \n",
       "c_revenue             3.843205   9.141325    1890.400000  \n",
       "c_sales               4.650000  11.220000    2224.000000  \n",
       "c_rs_ratio            0.850000   0.850000       0.850000  \n",
       "n_bid_count           1.000000   3.000000      43.000000  \n",
       "n_bid_max             0.456000   1.000000    2224.000000  \n",
       "n_list_max            0.500000   1.000000  100000.000000  \n",
       "n_bid_max             0.400000   0.925000     552.849126  \n",
       "n_bid_min             0.350000   0.777000      50.000000  "
      ]
     },
     "execution_count": 39,
     "metadata": {},
     "output_type": "execute_result"
    }
   ],
   "source": [
    "nft_combined.describe().T"
   ]
  },
  {
   "cell_type": "code",
   "execution_count": 40,
   "id": "6701b1bf",
   "metadata": {},
   "outputs": [
    {
     "data": {
      "text/plain": [
       "n_id                    0\n",
       "n_isFirstSale           0\n",
       "n_lastSalePriceInETH    0\n",
       "n_revenue               0\n",
       "n_tokenIPFSPath         0\n",
       "n_date_minted           0\n",
       "n_rs_ratio              0\n",
       "c_id                    0\n",
       "c_revenue               0\n",
       "c_sales                 0\n",
       "c_rs_ratio              0\n",
       "m_name_x                0\n",
       "m_desc_x                0\n",
       "m_img_x                 0\n",
       "n_bid_count             0\n",
       "n_bid_max               0\n",
       "n_list_max              0\n",
       "n_bid_max               0\n",
       "n_bid_min               0\n",
       "m_name_y                0\n",
       "m_desc_y                0\n",
       "m_img_y                 0\n",
       "dtype: int64"
      ]
     },
     "execution_count": 40,
     "metadata": {},
     "output_type": "execute_result"
    }
   ],
   "source": [
    "nft_combined.isnull().sum()"
   ]
  },
  {
   "cell_type": "code",
   "execution_count": 41,
   "id": "f01f045b",
   "metadata": {},
   "outputs": [
    {
     "data": {
      "text/html": [
       "<div>\n",
       "<style scoped>\n",
       "    .dataframe tbody tr th:only-of-type {\n",
       "        vertical-align: middle;\n",
       "    }\n",
       "\n",
       "    .dataframe tbody tr th {\n",
       "        vertical-align: top;\n",
       "    }\n",
       "\n",
       "    .dataframe thead th {\n",
       "        text-align: right;\n",
       "    }\n",
       "</style>\n",
       "<table border=\"1\" class=\"dataframe\">\n",
       "  <thead>\n",
       "    <tr style=\"text-align: right;\">\n",
       "      <th></th>\n",
       "      <th>n_id</th>\n",
       "      <th>n_isFirstSale</th>\n",
       "      <th>n_lastSalePriceInETH</th>\n",
       "      <th>n_revenue</th>\n",
       "      <th>n_tokenIPFSPath</th>\n",
       "      <th>n_date_minted</th>\n",
       "      <th>n_rs_ratio</th>\n",
       "      <th>c_id</th>\n",
       "      <th>c_revenue</th>\n",
       "      <th>c_sales</th>\n",
       "      <th>...</th>\n",
       "      <th>m_desc_x</th>\n",
       "      <th>m_img_x</th>\n",
       "      <th>n_bid_count</th>\n",
       "      <th>n_bid_max</th>\n",
       "      <th>n_list_max</th>\n",
       "      <th>n_bid_max</th>\n",
       "      <th>n_bid_min</th>\n",
       "      <th>m_name_y</th>\n",
       "      <th>m_desc_y</th>\n",
       "      <th>m_img_y</th>\n",
       "    </tr>\n",
       "  </thead>\n",
       "  <tbody>\n",
       "    <tr>\n",
       "      <th>0</th>\n",
       "      <td>0x3b3ee1931dc30c1957379fac9aba94d1c48a5405-24437</td>\n",
       "      <td>False</td>\n",
       "      <td>2224.0000</td>\n",
       "      <td>1890.400000</td>\n",
       "      <td>QmNeqUFf3WKcXFEHgxFCrf3t8jrxyCkev6LBtRz78Ygq9u/metadata.json</td>\n",
       "      <td>2021-04-14 22:13:06</td>\n",
       "      <td>0.850000</td>\n",
       "      <td>0xf74d1224931afa9cf12d06092c1eb1818d1e255c</td>\n",
       "      <td>1890.400000</td>\n",
       "      <td>2224.0000</td>\n",
       "      <td>...</td>\n",
       "      <td>This unique, signed work combines the entirety of a landmark court decision ruling the National Security Agency's mass surveillance violated the law, with the iconic portrait of the whistleblower ...</td>\n",
       "      <td>ipfs://QmTKdyzYbT9FzAs8mB4HGiLDR7o8maRP34J5iNDFZQqndQ/nft.png</td>\n",
       "      <td>31.0</td>\n",
       "      <td>2224.0000</td>\n",
       "      <td>2.0</td>\n",
       "      <td>552.849126</td>\n",
       "      <td>2.0000</td>\n",
       "      <td>Stay Free (Edward Snowden, 2021)</td>\n",
       "      <td>This unique, signed work combines the entirety of a landmark court decision ruling the National Security Agency's mass surveillance violated the law, with the iconic portrait of the whistleblower ...</td>\n",
       "      <td>ipfs://QmTKdyzYbT9FzAs8mB4HGiLDR7o8maRP34J5iNDFZQqndQ/nft.png</td>\n",
       "    </tr>\n",
       "    <tr>\n",
       "      <th>1</th>\n",
       "      <td>0x3b3ee1931dc30c1957379fac9aba94d1c48a5405-100052</td>\n",
       "      <td>False</td>\n",
       "      <td>49.5002</td>\n",
       "      <td>42.075170</td>\n",
       "      <td>QmaW2ukMCqyMNg5qqoYsusgbNL9KRnFwRKCkBt6u3AiyTN/metadata.json</td>\n",
       "      <td>2021-10-19 04:56:48</td>\n",
       "      <td>0.850000</td>\n",
       "      <td>0x4666fd1f89576e2d6fb3f2ecec5eefd3e1ba6b59</td>\n",
       "      <td>1329.278945</td>\n",
       "      <td>1624.6517</td>\n",
       "      <td>...</td>\n",
       "      <td>Possession of this PORTAL entitles you to membership in the TBOA club (theblocksofart.com)\\n\\n10000x10000</td>\n",
       "      <td>ipfs://QmYChA4jtLhiMLPhDZv1t3xGZ1uj46yG4dtzCygUjgdhz7/nft.png</td>\n",
       "      <td>8.0</td>\n",
       "      <td>49.5002</td>\n",
       "      <td>0.1</td>\n",
       "      <td>29.538775</td>\n",
       "      <td>0.1000</td>\n",
       "      <td>PORTAL 07</td>\n",
       "      <td>Possession of this PORTAL entitles you to membership in the TBOA club (theblocksofart.com)\\n\\n10000x10000</td>\n",
       "      <td>ipfs://QmYChA4jtLhiMLPhDZv1t3xGZ1uj46yG4dtzCygUjgdhz7/nft.png</td>\n",
       "    </tr>\n",
       "    <tr>\n",
       "      <th>2</th>\n",
       "      <td>0x3b3ee1931dc30c1957379fac9aba94d1c48a5405-100995</td>\n",
       "      <td>False</td>\n",
       "      <td>33.0000</td>\n",
       "      <td>3.300000</td>\n",
       "      <td>QmdCKx9Q5b1G4vjbJ2wKSkCo3sWoUrg2hm5QTifNag5nXj/metadata.json</td>\n",
       "      <td>2021-10-21 05:35:05</td>\n",
       "      <td>0.100000</td>\n",
       "      <td>0x4666fd1f89576e2d6fb3f2ecec5eefd3e1ba6b59</td>\n",
       "      <td>1329.278945</td>\n",
       "      <td>1624.6517</td>\n",
       "      <td>...</td>\n",
       "      <td>Possession of this PORTAL entitles you to membership in the TBOA club (tboa.club)\\n\\n444(4) Edition\\n\\n10000x10000</td>\n",
       "      <td>ipfs://Qmbd3CzQMBPYeYBiMWe7U2bTWCyRusEjcMB3Ck84LcDbGc/nft.png</td>\n",
       "      <td>1.0</td>\n",
       "      <td>33.0000</td>\n",
       "      <td>33.0</td>\n",
       "      <td>33.000000</td>\n",
       "      <td>33.0000</td>\n",
       "      <td>PORTAL 08</td>\n",
       "      <td>Possession of this PORTAL entitles you to membership in the TBOA club (tboa.club)\\n\\n444(4) Edition\\n\\n10000x10000</td>\n",
       "      <td>ipfs://Qmbd3CzQMBPYeYBiMWe7U2bTWCyRusEjcMB3Ck84LcDbGc/nft.png</td>\n",
       "    </tr>\n",
       "    <tr>\n",
       "      <th>6</th>\n",
       "      <td>0x3b3ee1931dc30c1957379fac9aba94d1c48a5405-104231</td>\n",
       "      <td>False</td>\n",
       "      <td>38.5000</td>\n",
       "      <td>32.725000</td>\n",
       "      <td>QmcwsRse5TswGBcNMyzUqEERpKAdv2knwkXCab28xzXqMg/metadata.json</td>\n",
       "      <td>2021-11-02 11:12:05</td>\n",
       "      <td>0.850000</td>\n",
       "      <td>0x4666fd1f89576e2d6fb3f2ecec5eefd3e1ba6b59</td>\n",
       "      <td>1329.278945</td>\n",
       "      <td>1624.6517</td>\n",
       "      <td>...</td>\n",
       "      <td>Possession of this PORTAL entitles you to membership in the TBOA club (tboa.club)\\n\\n10000x10000</td>\n",
       "      <td>ipfs://QmcReVCdz6CSsvhYNnrGQH93BEQhdatd7TNV1CivYqFer1/nft.png</td>\n",
       "      <td>5.0</td>\n",
       "      <td>38.5000</td>\n",
       "      <td>0.1</td>\n",
       "      <td>14.772000</td>\n",
       "      <td>0.1000</td>\n",
       "      <td>PORTAL 12</td>\n",
       "      <td>Possession of this PORTAL entitles you to membership in the TBOA club (tboa.club)\\n\\n10000x10000</td>\n",
       "      <td>ipfs://QmcReVCdz6CSsvhYNnrGQH93BEQhdatd7TNV1CivYqFer1/nft.png</td>\n",
       "    </tr>\n",
       "    <tr>\n",
       "      <th>8</th>\n",
       "      <td>0x3b3ee1931dc30c1957379fac9aba94d1c48a5405-63149</td>\n",
       "      <td>False</td>\n",
       "      <td>5.0000</td>\n",
       "      <td>4.250000</td>\n",
       "      <td>QmQgj6xy2cwjnH5vpQoey4EAHXddafDb5DZiAXqpVL6fco/metadata.json</td>\n",
       "      <td>2021-07-23 04:16:25</td>\n",
       "      <td>0.850000</td>\n",
       "      <td>0x4666fd1f89576e2d6fb3f2ecec5eefd3e1ba6b59</td>\n",
       "      <td>1329.278945</td>\n",
       "      <td>1624.6517</td>\n",
       "      <td>...</td>\n",
       "      <td>8000 x 8000</td>\n",
       "      <td>ipfs://QmbQn11K5DMk14FxLVwNyfJMWLZPy2biRGgnPwebzYGoxf/nft.png</td>\n",
       "      <td>9.0</td>\n",
       "      <td>5.0000</td>\n",
       "      <td>1.2</td>\n",
       "      <td>2.338900</td>\n",
       "      <td>1.2000</td>\n",
       "      <td>dєѕírєd ѕσlítudє</td>\n",
       "      <td>8000 x 8000</td>\n",
       "      <td>ipfs://QmbQn11K5DMk14FxLVwNyfJMWLZPy2biRGgnPwebzYGoxf/nft.png</td>\n",
       "    </tr>\n",
       "    <tr>\n",
       "      <th>9</th>\n",
       "      <td>0x3b3ee1931dc30c1957379fac9aba94d1c48a5405-64683</td>\n",
       "      <td>False</td>\n",
       "      <td>1.3200</td>\n",
       "      <td>1.122000</td>\n",
       "      <td>QmRUMLZTL6pGA8FhXYZHHaZdRzpkV16tGaMigb3hRmdqza/metadata.json</td>\n",
       "      <td>2021-07-26 17:33:22</td>\n",
       "      <td>0.850000</td>\n",
       "      <td>0x4666fd1f89576e2d6fb3f2ecec5eefd3e1ba6b59</td>\n",
       "      <td>1329.278945</td>\n",
       "      <td>1624.6517</td>\n",
       "      <td>...</td>\n",
       "      <td>8000x8000</td>\n",
       "      <td>ipfs://Qmb9oBysDQTSd8uEsBwZVqesUMVdBhQQdBvaUMPx44r5m9/nft.png</td>\n",
       "      <td>2.0</td>\n",
       "      <td>1.3200</td>\n",
       "      <td>6.0</td>\n",
       "      <td>1.260000</td>\n",
       "      <td>1.2000</td>\n",
       "      <td>bᎥᎾᏟᎬᏞᎬsᏆᎥᎪᏞ</td>\n",
       "      <td>8000x8000</td>\n",
       "      <td>ipfs://Qmb9oBysDQTSd8uEsBwZVqesUMVdBhQQdBvaUMPx44r5m9/nft.png</td>\n",
       "    </tr>\n",
       "    <tr>\n",
       "      <th>10</th>\n",
       "      <td>0x3b3ee1931dc30c1957379fac9aba94d1c48a5405-65069</td>\n",
       "      <td>False</td>\n",
       "      <td>23.8800</td>\n",
       "      <td>20.298000</td>\n",
       "      <td>QmXZ24m9rrTnsvKtU5jZzquonKJq1TdQxWCYz3zfzWfSKh/metadata.json</td>\n",
       "      <td>2021-07-27 12:52:05</td>\n",
       "      <td>0.850000</td>\n",
       "      <td>0x4666fd1f89576e2d6fb3f2ecec5eefd3e1ba6b59</td>\n",
       "      <td>1329.278945</td>\n",
       "      <td>1624.6517</td>\n",
       "      <td>...</td>\n",
       "      <td>Possession of this PORTAL entitles you to membership in the TBOA club (theblocksofart.com)\\n\\n8000x8000</td>\n",
       "      <td>ipfs://QmbDqs81sSFjDwnjRvEL9vizrJ9wXddSbw5ntLwnvJ7arL/nft.png</td>\n",
       "      <td>13.0</td>\n",
       "      <td>23.8800</td>\n",
       "      <td>5.0</td>\n",
       "      <td>12.040777</td>\n",
       "      <td>5.0000</td>\n",
       "      <td>PORTAL 01</td>\n",
       "      <td>Possession of this PORTAL entitles you to membership in the TBOA club (theblocksofart.com)\\n\\n8000x8000</td>\n",
       "      <td>ipfs://QmbDqs81sSFjDwnjRvEL9vizrJ9wXddSbw5ntLwnvJ7arL/nft.png</td>\n",
       "    </tr>\n",
       "    <tr>\n",
       "      <th>11</th>\n",
       "      <td>0x3b3ee1931dc30c1957379fac9aba94d1c48a5405-65450</td>\n",
       "      <td>False</td>\n",
       "      <td>2.4300</td>\n",
       "      <td>2.065500</td>\n",
       "      <td>QmdXBm1C3G59kgBe43sziZ6HgziZ8DpoHHfX94fK4i137X/metadata.json</td>\n",
       "      <td>2021-07-28 13:25:56</td>\n",
       "      <td>0.850000</td>\n",
       "      <td>0x4666fd1f89576e2d6fb3f2ecec5eefd3e1ba6b59</td>\n",
       "      <td>1329.278945</td>\n",
       "      <td>1624.6517</td>\n",
       "      <td>...</td>\n",
       "      <td>8000x8000</td>\n",
       "      <td>ipfs://QmNyHG5Jq5eWZBdkRwu3m9n3UBAMzht3wHXy3iDHeeMQqD/nft.png</td>\n",
       "      <td>8.0</td>\n",
       "      <td>2.4300</td>\n",
       "      <td>1.2</td>\n",
       "      <td>1.750263</td>\n",
       "      <td>1.2000</td>\n",
       "      <td>changes</td>\n",
       "      <td>8000x8000</td>\n",
       "      <td>ipfs://QmNyHG5Jq5eWZBdkRwu3m9n3UBAMzht3wHXy3iDHeeMQqD/nft.png</td>\n",
       "    </tr>\n",
       "    <tr>\n",
       "      <th>12</th>\n",
       "      <td>0x3b3ee1931dc30c1957379fac9aba94d1c48a5405-66044</td>\n",
       "      <td>False</td>\n",
       "      <td>1.8150</td>\n",
       "      <td>1.542750</td>\n",
       "      <td>QmZ8hThfwZTH5Vc7Y6VeVoLiWaxrVMkAZNpqZKSfXTdNT1/metadata.json</td>\n",
       "      <td>2021-07-29 16:55:59</td>\n",
       "      <td>0.850000</td>\n",
       "      <td>0x4666fd1f89576e2d6fb3f2ecec5eefd3e1ba6b59</td>\n",
       "      <td>1329.278945</td>\n",
       "      <td>1624.6517</td>\n",
       "      <td>...</td>\n",
       "      <td>8000x8000</td>\n",
       "      <td>ipfs://Qme4wh13S57SMBD5eKkjL6X1Tvr89YFn2BXzGczP3FchWh/nft.png</td>\n",
       "      <td>3.0</td>\n",
       "      <td>1.8150</td>\n",
       "      <td>1.5</td>\n",
       "      <td>1.655000</td>\n",
       "      <td>1.5000</td>\n",
       "      <td>Reflections</td>\n",
       "      <td>8000x8000</td>\n",
       "      <td>ipfs://Qme4wh13S57SMBD5eKkjL6X1Tvr89YFn2BXzGczP3FchWh/nft.png</td>\n",
       "    </tr>\n",
       "    <tr>\n",
       "      <th>13</th>\n",
       "      <td>0x3b3ee1931dc30c1957379fac9aba94d1c48a5405-66380</td>\n",
       "      <td>False</td>\n",
       "      <td>3.5000</td>\n",
       "      <td>2.975000</td>\n",
       "      <td>QmeZYbYwRxerEbuWKViFbwZ33XHCFDHDsqETd8B5ksP7AQ/metadata.json</td>\n",
       "      <td>2021-07-30 14:29:40</td>\n",
       "      <td>0.850000</td>\n",
       "      <td>0x4666fd1f89576e2d6fb3f2ecec5eefd3e1ba6b59</td>\n",
       "      <td>1329.278945</td>\n",
       "      <td>1624.6517</td>\n",
       "      <td>...</td>\n",
       "      <td>8000x8000</td>\n",
       "      <td>ipfs://QmPVeJTxXtKcSBUBnCiKB7RJRBYq34RDaxmjEJzhA1GR8s/nft.png</td>\n",
       "      <td>8.0</td>\n",
       "      <td>3.5000</td>\n",
       "      <td>12.0</td>\n",
       "      <td>2.400000</td>\n",
       "      <td>1.5000</td>\n",
       "      <td>Slow</td>\n",
       "      <td>8000x8000</td>\n",
       "      <td>ipfs://QmPVeJTxXtKcSBUBnCiKB7RJRBYq34RDaxmjEJzhA1GR8s/nft.png</td>\n",
       "    </tr>\n",
       "    <tr>\n",
       "      <th>14</th>\n",
       "      <td>0x3b3ee1931dc30c1957379fac9aba94d1c48a5405-67233</td>\n",
       "      <td>False</td>\n",
       "      <td>2.0000</td>\n",
       "      <td>1.700000</td>\n",
       "      <td>QmbwA3HSWkAobfo1N2G88okY55nsfLkng1nRYkbkGN9RtL/metadata.json</td>\n",
       "      <td>2021-08-01 14:07:03</td>\n",
       "      <td>0.850000</td>\n",
       "      <td>0x4666fd1f89576e2d6fb3f2ecec5eefd3e1ba6b59</td>\n",
       "      <td>1329.278945</td>\n",
       "      <td>1624.6517</td>\n",
       "      <td>...</td>\n",
       "      <td>1 / 3\\n\\n8000x8000</td>\n",
       "      <td>ipfs://QmZN4qqKmcVzX2z6rP3FifnpQNAD4KtnsV4pXSHLMpCxAJ/nft.png</td>\n",
       "      <td>4.0</td>\n",
       "      <td>2.0000</td>\n",
       "      <td>1.5</td>\n",
       "      <td>1.741250</td>\n",
       "      <td>1.5000</td>\n",
       "      <td>Sciz Triptych</td>\n",
       "      <td>1 / 3\\n\\n8000x8000</td>\n",
       "      <td>ipfs://QmZN4qqKmcVzX2z6rP3FifnpQNAD4KtnsV4pXSHLMpCxAJ/nft.png</td>\n",
       "    </tr>\n",
       "    <tr>\n",
       "      <th>15</th>\n",
       "      <td>0x3b3ee1931dc30c1957379fac9aba94d1c48a5405-67234</td>\n",
       "      <td>False</td>\n",
       "      <td>2.0000</td>\n",
       "      <td>1.700000</td>\n",
       "      <td>QmctrU7uiKg9jnyNjUC7669rT38AxDUx1otf2XCcZ7Kfy1/metadata.json</td>\n",
       "      <td>2021-08-01 14:12:44</td>\n",
       "      <td>0.850000</td>\n",
       "      <td>0x4666fd1f89576e2d6fb3f2ecec5eefd3e1ba6b59</td>\n",
       "      <td>1329.278945</td>\n",
       "      <td>1624.6517</td>\n",
       "      <td>...</td>\n",
       "      <td>2/ 3\\n\\n8000x8000</td>\n",
       "      <td>ipfs://Qmeot6GDi8C2c6NkCoKkgm4RxajS8ZqaMHHRqV7NerAEjR/nft.png</td>\n",
       "      <td>4.0</td>\n",
       "      <td>2.0000</td>\n",
       "      <td>32.0</td>\n",
       "      <td>1.741250</td>\n",
       "      <td>1.5000</td>\n",
       "      <td>Sciz Triptych</td>\n",
       "      <td>2/ 3\\n\\n8000x8000</td>\n",
       "      <td>ipfs://Qmeot6GDi8C2c6NkCoKkgm4RxajS8ZqaMHHRqV7NerAEjR/nft.png</td>\n",
       "    </tr>\n",
       "    <tr>\n",
       "      <th>16</th>\n",
       "      <td>0x3b3ee1931dc30c1957379fac9aba94d1c48a5405-67235</td>\n",
       "      <td>False</td>\n",
       "      <td>1.9965</td>\n",
       "      <td>1.697025</td>\n",
       "      <td>QmX1HsgTX74UidaqXffVUn6nLFpNmbv5zuAYZvQiVw1hnw/metadata.json</td>\n",
       "      <td>2021-08-01 14:14:10</td>\n",
       "      <td>0.850000</td>\n",
       "      <td>0x4666fd1f89576e2d6fb3f2ecec5eefd3e1ba6b59</td>\n",
       "      <td>1329.278945</td>\n",
       "      <td>1624.6517</td>\n",
       "      <td>...</td>\n",
       "      <td>3 / 3\\n\\n8000x8000</td>\n",
       "      <td>ipfs://QmaRR8GdtxvhQsd7EAy7pbPCwfwMk6RnFCPUyDXw5Uguy6/nft.png</td>\n",
       "      <td>4.0</td>\n",
       "      <td>1.9965</td>\n",
       "      <td>4.0</td>\n",
       "      <td>1.740375</td>\n",
       "      <td>1.5000</td>\n",
       "      <td>Sciz Triptych</td>\n",
       "      <td>3 / 3\\n\\n8000x8000</td>\n",
       "      <td>ipfs://QmaRR8GdtxvhQsd7EAy7pbPCwfwMk6RnFCPUyDXw5Uguy6/nft.png</td>\n",
       "    </tr>\n",
       "    <tr>\n",
       "      <th>17</th>\n",
       "      <td>0x3b3ee1931dc30c1957379fac9aba94d1c48a5405-67251</td>\n",
       "      <td>False</td>\n",
       "      <td>2.0000</td>\n",
       "      <td>1.700000</td>\n",
       "      <td>QmPTRLKr8xW9ZMPxPGwhJWgqnNf8cdTE9LqK1zBybJooz8/metadata.json</td>\n",
       "      <td>2021-08-01 15:55:16</td>\n",
       "      <td>0.850000</td>\n",
       "      <td>0x4666fd1f89576e2d6fb3f2ecec5eefd3e1ba6b59</td>\n",
       "      <td>1329.278945</td>\n",
       "      <td>1624.6517</td>\n",
       "      <td>...</td>\n",
       "      <td>8000x8000</td>\n",
       "      <td>ipfs://QmU1gwBPfQedgeZWfbDUmP5hpiWdTjkhn2sHqfWRWNwEV3/nft.png</td>\n",
       "      <td>1.0</td>\n",
       "      <td>2.0000</td>\n",
       "      <td>2.0</td>\n",
       "      <td>2.000000</td>\n",
       "      <td>2.0000</td>\n",
       "      <td>CHI</td>\n",
       "      <td>8000x8000</td>\n",
       "      <td>ipfs://QmU1gwBPfQedgeZWfbDUmP5hpiWdTjkhn2sHqfWRWNwEV3/nft.png</td>\n",
       "    </tr>\n",
       "    <tr>\n",
       "      <th>18</th>\n",
       "      <td>0x3b3ee1931dc30c1957379fac9aba94d1c48a5405-67659</td>\n",
       "      <td>False</td>\n",
       "      <td>1.6500</td>\n",
       "      <td>1.402500</td>\n",
       "      <td>QmQRfWvybyYLKXUZkwmRpV64irvV9kJ85k5rR3PAM19K4J/metadata.json</td>\n",
       "      <td>2021-08-02 16:42:12</td>\n",
       "      <td>0.850000</td>\n",
       "      <td>0x4666fd1f89576e2d6fb3f2ecec5eefd3e1ba6b59</td>\n",
       "      <td>1329.278945</td>\n",
       "      <td>1624.6517</td>\n",
       "      <td>...</td>\n",
       "      <td>8000x8000</td>\n",
       "      <td>ipfs://QmdA9GhydQdS2CkGMZ9YcezUeYrVR4dqFhpko2CUNtcooq/nft.png</td>\n",
       "      <td>6.0</td>\n",
       "      <td>1.6500</td>\n",
       "      <td>1.0</td>\n",
       "      <td>1.307533</td>\n",
       "      <td>1.0000</td>\n",
       "      <td>8008</td>\n",
       "      <td>8000x8000</td>\n",
       "      <td>ipfs://QmdA9GhydQdS2CkGMZ9YcezUeYrVR4dqFhpko2CUNtcooq/nft.png</td>\n",
       "    </tr>\n",
       "    <tr>\n",
       "      <th>19</th>\n",
       "      <td>0x3b3ee1931dc30c1957379fac9aba94d1c48a5405-68237</td>\n",
       "      <td>False</td>\n",
       "      <td>2.2000</td>\n",
       "      <td>1.870000</td>\n",
       "      <td>QmYqDcETQ4QdhZUikdPQXjNJjguWhbx18dHg5q6Yi8ePow/metadata.json</td>\n",
       "      <td>2021-08-04 01:19:10</td>\n",
       "      <td>0.850000</td>\n",
       "      <td>0x4666fd1f89576e2d6fb3f2ecec5eefd3e1ba6b59</td>\n",
       "      <td>1329.278945</td>\n",
       "      <td>1624.6517</td>\n",
       "      <td>...</td>\n",
       "      <td>8000x8000</td>\n",
       "      <td>ipfs://QmU218BKy1dZn5XdJqv5diqk2dLBbzkj5ny47BXptQbWpQ/nft.png</td>\n",
       "      <td>3.0</td>\n",
       "      <td>2.2000</td>\n",
       "      <td>1.5</td>\n",
       "      <td>1.900000</td>\n",
       "      <td>1.5000</td>\n",
       "      <td>12</td>\n",
       "      <td>8000x8000</td>\n",
       "      <td>ipfs://QmU218BKy1dZn5XdJqv5diqk2dLBbzkj5ny47BXptQbWpQ/nft.png</td>\n",
       "    </tr>\n",
       "    <tr>\n",
       "      <th>21</th>\n",
       "      <td>0x3b3ee1931dc30c1957379fac9aba94d1c48a5405-68541</td>\n",
       "      <td>False</td>\n",
       "      <td>2.5300</td>\n",
       "      <td>2.150500</td>\n",
       "      <td>QmWbnuLK2w9WGJGZ3iszWsJ58E6GTVJDN6Miojk7qdrCNV/metadata.json</td>\n",
       "      <td>2021-08-04 16:17:29</td>\n",
       "      <td>0.850000</td>\n",
       "      <td>0x4666fd1f89576e2d6fb3f2ecec5eefd3e1ba6b59</td>\n",
       "      <td>1329.278945</td>\n",
       "      <td>1624.6517</td>\n",
       "      <td>...</td>\n",
       "      <td>8000x8000</td>\n",
       "      <td>ipfs://QmeAJVD6rULnkWvcE7RN4mYRYRZJYsPm8x8v5UxGgHGrm1/nft.png</td>\n",
       "      <td>5.0</td>\n",
       "      <td>2.5300</td>\n",
       "      <td>1.5</td>\n",
       "      <td>2.102840</td>\n",
       "      <td>1.6942</td>\n",
       "      <td>Keep me</td>\n",
       "      <td>8000x8000</td>\n",
       "      <td>ipfs://QmeAJVD6rULnkWvcE7RN4mYRYRZJYsPm8x8v5UxGgHGrm1/nft.png</td>\n",
       "    </tr>\n",
       "    <tr>\n",
       "      <th>22</th>\n",
       "      <td>0x3b3ee1931dc30c1957379fac9aba94d1c48a5405-68906</td>\n",
       "      <td>False</td>\n",
       "      <td>4.6900</td>\n",
       "      <td>3.986500</td>\n",
       "      <td>QmSoiwhsDbT7CNESy6HVsoArZPM1r663W79mwxPCUUp5Y8/metadata.json</td>\n",
       "      <td>2021-08-05 16:07:08</td>\n",
       "      <td>0.850000</td>\n",
       "      <td>0x4666fd1f89576e2d6fb3f2ecec5eefd3e1ba6b59</td>\n",
       "      <td>1329.278945</td>\n",
       "      <td>1624.6517</td>\n",
       "      <td>...</td>\n",
       "      <td>8000x8000</td>\n",
       "      <td>ipfs://QmW2XnmT4L9DxtY1UhkrPkhSVBK6m6Hs36gYUXymM3qnTe/nft.png</td>\n",
       "      <td>11.0</td>\n",
       "      <td>4.6900</td>\n",
       "      <td>1.5</td>\n",
       "      <td>2.833273</td>\n",
       "      <td>1.5000</td>\n",
       "      <td>Time</td>\n",
       "      <td>8000x8000</td>\n",
       "      <td>ipfs://QmW2XnmT4L9DxtY1UhkrPkhSVBK6m6Hs36gYUXymM3qnTe/nft.png</td>\n",
       "    </tr>\n",
       "    <tr>\n",
       "      <th>23</th>\n",
       "      <td>0x3b3ee1931dc30c1957379fac9aba94d1c48a5405-68909</td>\n",
       "      <td>False</td>\n",
       "      <td>8.0000</td>\n",
       "      <td>3.707000</td>\n",
       "      <td>QmQcctkUiTSQBfpTjx2onz2gdG5jpZ3MA3EPYUZr443f15/metadata.json</td>\n",
       "      <td>2021-08-05 16:25:46</td>\n",
       "      <td>0.324606</td>\n",
       "      <td>0x4666fd1f89576e2d6fb3f2ecec5eefd3e1ba6b59</td>\n",
       "      <td>1329.278945</td>\n",
       "      <td>1624.6517</td>\n",
       "      <td>...</td>\n",
       "      <td>8000x8000</td>\n",
       "      <td>ipfs://QmW365nZKzz6aqaT1HZohxs5dMkEAwvmEPBzGhrLuHRTwL/nft.png</td>\n",
       "      <td>5.0</td>\n",
       "      <td>8.0000</td>\n",
       "      <td>7.9</td>\n",
       "      <td>3.634000</td>\n",
       "      <td>1.5000</td>\n",
       "      <td>Waiting</td>\n",
       "      <td>8000x8000</td>\n",
       "      <td>ipfs://QmW365nZKzz6aqaT1HZohxs5dMkEAwvmEPBzGhrLuHRTwL/nft.png</td>\n",
       "    </tr>\n",
       "    <tr>\n",
       "      <th>24</th>\n",
       "      <td>0x3b3ee1931dc30c1957379fac9aba94d1c48a5405-69222</td>\n",
       "      <td>False</td>\n",
       "      <td>8.3600</td>\n",
       "      <td>7.106000</td>\n",
       "      <td>QmSSYMCB8gPQWHarxoRtfVPFt6Vgqj3MnJwiyE4w4eTXqu/metadata.json</td>\n",
       "      <td>2021-08-06 10:50:18</td>\n",
       "      <td>0.850000</td>\n",
       "      <td>0x4666fd1f89576e2d6fb3f2ecec5eefd3e1ba6b59</td>\n",
       "      <td>1329.278945</td>\n",
       "      <td>1624.6517</td>\n",
       "      <td>...</td>\n",
       "      <td>The Genesis of Gyre\\n(https://opensea.io/collection/gyre)\\n\\n10696x10696</td>\n",
       "      <td>ipfs://Qmf1ThrEQ1i8d1zLNx7ULdRZC4DJW9LYx9BWfd63hgifkH/nft.png</td>\n",
       "      <td>8.0</td>\n",
       "      <td>8.3600</td>\n",
       "      <td>3.0</td>\n",
       "      <td>5.730000</td>\n",
       "      <td>3.0000</td>\n",
       "      <td>The Gold Gyre (#0)</td>\n",
       "      <td>The Genesis of Gyre\\n(https://opensea.io/collection/gyre)\\n\\n10696x10696</td>\n",
       "      <td>ipfs://Qmf1ThrEQ1i8d1zLNx7ULdRZC4DJW9LYx9BWfd63hgifkH/nft.png</td>\n",
       "    </tr>\n",
       "  </tbody>\n",
       "</table>\n",
       "<p>20 rows × 22 columns</p>\n",
       "</div>"
      ],
      "text/plain": [
       "                                                 n_id  n_isFirstSale  \\\n",
       "0    0x3b3ee1931dc30c1957379fac9aba94d1c48a5405-24437          False   \n",
       "1   0x3b3ee1931dc30c1957379fac9aba94d1c48a5405-100052          False   \n",
       "2   0x3b3ee1931dc30c1957379fac9aba94d1c48a5405-100995          False   \n",
       "6   0x3b3ee1931dc30c1957379fac9aba94d1c48a5405-104231          False   \n",
       "8    0x3b3ee1931dc30c1957379fac9aba94d1c48a5405-63149          False   \n",
       "9    0x3b3ee1931dc30c1957379fac9aba94d1c48a5405-64683          False   \n",
       "10   0x3b3ee1931dc30c1957379fac9aba94d1c48a5405-65069          False   \n",
       "11   0x3b3ee1931dc30c1957379fac9aba94d1c48a5405-65450          False   \n",
       "12   0x3b3ee1931dc30c1957379fac9aba94d1c48a5405-66044          False   \n",
       "13   0x3b3ee1931dc30c1957379fac9aba94d1c48a5405-66380          False   \n",
       "14   0x3b3ee1931dc30c1957379fac9aba94d1c48a5405-67233          False   \n",
       "15   0x3b3ee1931dc30c1957379fac9aba94d1c48a5405-67234          False   \n",
       "16   0x3b3ee1931dc30c1957379fac9aba94d1c48a5405-67235          False   \n",
       "17   0x3b3ee1931dc30c1957379fac9aba94d1c48a5405-67251          False   \n",
       "18   0x3b3ee1931dc30c1957379fac9aba94d1c48a5405-67659          False   \n",
       "19   0x3b3ee1931dc30c1957379fac9aba94d1c48a5405-68237          False   \n",
       "21   0x3b3ee1931dc30c1957379fac9aba94d1c48a5405-68541          False   \n",
       "22   0x3b3ee1931dc30c1957379fac9aba94d1c48a5405-68906          False   \n",
       "23   0x3b3ee1931dc30c1957379fac9aba94d1c48a5405-68909          False   \n",
       "24   0x3b3ee1931dc30c1957379fac9aba94d1c48a5405-69222          False   \n",
       "\n",
       "    n_lastSalePriceInETH    n_revenue  \\\n",
       "0              2224.0000  1890.400000   \n",
       "1                49.5002    42.075170   \n",
       "2                33.0000     3.300000   \n",
       "6                38.5000    32.725000   \n",
       "8                 5.0000     4.250000   \n",
       "9                 1.3200     1.122000   \n",
       "10               23.8800    20.298000   \n",
       "11                2.4300     2.065500   \n",
       "12                1.8150     1.542750   \n",
       "13                3.5000     2.975000   \n",
       "14                2.0000     1.700000   \n",
       "15                2.0000     1.700000   \n",
       "16                1.9965     1.697025   \n",
       "17                2.0000     1.700000   \n",
       "18                1.6500     1.402500   \n",
       "19                2.2000     1.870000   \n",
       "21                2.5300     2.150500   \n",
       "22                4.6900     3.986500   \n",
       "23                8.0000     3.707000   \n",
       "24                8.3600     7.106000   \n",
       "\n",
       "                                                 n_tokenIPFSPath  \\\n",
       "0   QmNeqUFf3WKcXFEHgxFCrf3t8jrxyCkev6LBtRz78Ygq9u/metadata.json   \n",
       "1   QmaW2ukMCqyMNg5qqoYsusgbNL9KRnFwRKCkBt6u3AiyTN/metadata.json   \n",
       "2   QmdCKx9Q5b1G4vjbJ2wKSkCo3sWoUrg2hm5QTifNag5nXj/metadata.json   \n",
       "6   QmcwsRse5TswGBcNMyzUqEERpKAdv2knwkXCab28xzXqMg/metadata.json   \n",
       "8   QmQgj6xy2cwjnH5vpQoey4EAHXddafDb5DZiAXqpVL6fco/metadata.json   \n",
       "9   QmRUMLZTL6pGA8FhXYZHHaZdRzpkV16tGaMigb3hRmdqza/metadata.json   \n",
       "10  QmXZ24m9rrTnsvKtU5jZzquonKJq1TdQxWCYz3zfzWfSKh/metadata.json   \n",
       "11  QmdXBm1C3G59kgBe43sziZ6HgziZ8DpoHHfX94fK4i137X/metadata.json   \n",
       "12  QmZ8hThfwZTH5Vc7Y6VeVoLiWaxrVMkAZNpqZKSfXTdNT1/metadata.json   \n",
       "13  QmeZYbYwRxerEbuWKViFbwZ33XHCFDHDsqETd8B5ksP7AQ/metadata.json   \n",
       "14  QmbwA3HSWkAobfo1N2G88okY55nsfLkng1nRYkbkGN9RtL/metadata.json   \n",
       "15  QmctrU7uiKg9jnyNjUC7669rT38AxDUx1otf2XCcZ7Kfy1/metadata.json   \n",
       "16  QmX1HsgTX74UidaqXffVUn6nLFpNmbv5zuAYZvQiVw1hnw/metadata.json   \n",
       "17  QmPTRLKr8xW9ZMPxPGwhJWgqnNf8cdTE9LqK1zBybJooz8/metadata.json   \n",
       "18  QmQRfWvybyYLKXUZkwmRpV64irvV9kJ85k5rR3PAM19K4J/metadata.json   \n",
       "19  QmYqDcETQ4QdhZUikdPQXjNJjguWhbx18dHg5q6Yi8ePow/metadata.json   \n",
       "21  QmWbnuLK2w9WGJGZ3iszWsJ58E6GTVJDN6Miojk7qdrCNV/metadata.json   \n",
       "22  QmSoiwhsDbT7CNESy6HVsoArZPM1r663W79mwxPCUUp5Y8/metadata.json   \n",
       "23  QmQcctkUiTSQBfpTjx2onz2gdG5jpZ3MA3EPYUZr443f15/metadata.json   \n",
       "24  QmSSYMCB8gPQWHarxoRtfVPFt6Vgqj3MnJwiyE4w4eTXqu/metadata.json   \n",
       "\n",
       "         n_date_minted  n_rs_ratio  \\\n",
       "0  2021-04-14 22:13:06    0.850000   \n",
       "1  2021-10-19 04:56:48    0.850000   \n",
       "2  2021-10-21 05:35:05    0.100000   \n",
       "6  2021-11-02 11:12:05    0.850000   \n",
       "8  2021-07-23 04:16:25    0.850000   \n",
       "9  2021-07-26 17:33:22    0.850000   \n",
       "10 2021-07-27 12:52:05    0.850000   \n",
       "11 2021-07-28 13:25:56    0.850000   \n",
       "12 2021-07-29 16:55:59    0.850000   \n",
       "13 2021-07-30 14:29:40    0.850000   \n",
       "14 2021-08-01 14:07:03    0.850000   \n",
       "15 2021-08-01 14:12:44    0.850000   \n",
       "16 2021-08-01 14:14:10    0.850000   \n",
       "17 2021-08-01 15:55:16    0.850000   \n",
       "18 2021-08-02 16:42:12    0.850000   \n",
       "19 2021-08-04 01:19:10    0.850000   \n",
       "21 2021-08-04 16:17:29    0.850000   \n",
       "22 2021-08-05 16:07:08    0.850000   \n",
       "23 2021-08-05 16:25:46    0.324606   \n",
       "24 2021-08-06 10:50:18    0.850000   \n",
       "\n",
       "                                          c_id    c_revenue    c_sales  ...  \\\n",
       "0   0xf74d1224931afa9cf12d06092c1eb1818d1e255c  1890.400000  2224.0000  ...   \n",
       "1   0x4666fd1f89576e2d6fb3f2ecec5eefd3e1ba6b59  1329.278945  1624.6517  ...   \n",
       "2   0x4666fd1f89576e2d6fb3f2ecec5eefd3e1ba6b59  1329.278945  1624.6517  ...   \n",
       "6   0x4666fd1f89576e2d6fb3f2ecec5eefd3e1ba6b59  1329.278945  1624.6517  ...   \n",
       "8   0x4666fd1f89576e2d6fb3f2ecec5eefd3e1ba6b59  1329.278945  1624.6517  ...   \n",
       "9   0x4666fd1f89576e2d6fb3f2ecec5eefd3e1ba6b59  1329.278945  1624.6517  ...   \n",
       "10  0x4666fd1f89576e2d6fb3f2ecec5eefd3e1ba6b59  1329.278945  1624.6517  ...   \n",
       "11  0x4666fd1f89576e2d6fb3f2ecec5eefd3e1ba6b59  1329.278945  1624.6517  ...   \n",
       "12  0x4666fd1f89576e2d6fb3f2ecec5eefd3e1ba6b59  1329.278945  1624.6517  ...   \n",
       "13  0x4666fd1f89576e2d6fb3f2ecec5eefd3e1ba6b59  1329.278945  1624.6517  ...   \n",
       "14  0x4666fd1f89576e2d6fb3f2ecec5eefd3e1ba6b59  1329.278945  1624.6517  ...   \n",
       "15  0x4666fd1f89576e2d6fb3f2ecec5eefd3e1ba6b59  1329.278945  1624.6517  ...   \n",
       "16  0x4666fd1f89576e2d6fb3f2ecec5eefd3e1ba6b59  1329.278945  1624.6517  ...   \n",
       "17  0x4666fd1f89576e2d6fb3f2ecec5eefd3e1ba6b59  1329.278945  1624.6517  ...   \n",
       "18  0x4666fd1f89576e2d6fb3f2ecec5eefd3e1ba6b59  1329.278945  1624.6517  ...   \n",
       "19  0x4666fd1f89576e2d6fb3f2ecec5eefd3e1ba6b59  1329.278945  1624.6517  ...   \n",
       "21  0x4666fd1f89576e2d6fb3f2ecec5eefd3e1ba6b59  1329.278945  1624.6517  ...   \n",
       "22  0x4666fd1f89576e2d6fb3f2ecec5eefd3e1ba6b59  1329.278945  1624.6517  ...   \n",
       "23  0x4666fd1f89576e2d6fb3f2ecec5eefd3e1ba6b59  1329.278945  1624.6517  ...   \n",
       "24  0x4666fd1f89576e2d6fb3f2ecec5eefd3e1ba6b59  1329.278945  1624.6517  ...   \n",
       "\n",
       "                                                                                                                                                                                                   m_desc_x  \\\n",
       "0   This unique, signed work combines the entirety of a landmark court decision ruling the National Security Agency's mass surveillance violated the law, with the iconic portrait of the whistleblower ...   \n",
       "1                                                                                                 Possession of this PORTAL entitles you to membership in the TBOA club (theblocksofart.com)\\n\\n10000x10000   \n",
       "2                                                                                        Possession of this PORTAL entitles you to membership in the TBOA club (tboa.club)\\n\\n444(4) Edition\\n\\n10000x10000   \n",
       "6                                                                                                          Possession of this PORTAL entitles you to membership in the TBOA club (tboa.club)\\n\\n10000x10000   \n",
       "8                                                                                                                                                                                               8000 x 8000   \n",
       "9                                                                                                                                                                                                 8000x8000   \n",
       "10                                                                                                  Possession of this PORTAL entitles you to membership in the TBOA club (theblocksofart.com)\\n\\n8000x8000   \n",
       "11                                                                                                                                                                                                8000x8000   \n",
       "12                                                                                                                                                                                                8000x8000   \n",
       "13                                                                                                                                                                                                8000x8000   \n",
       "14                                                                                                                                                                                       1 / 3\\n\\n8000x8000   \n",
       "15                                                                                                                                                                                        2/ 3\\n\\n8000x8000   \n",
       "16                                                                                                                                                                                       3 / 3\\n\\n8000x8000   \n",
       "17                                                                                                                                                                                                8000x8000   \n",
       "18                                                                                                                                                                                                8000x8000   \n",
       "19                                                                                                                                                                                                8000x8000   \n",
       "21                                                                                                                                                                                                8000x8000   \n",
       "22                                                                                                                                                                                                8000x8000   \n",
       "23                                                                                                                                                                                                8000x8000   \n",
       "24                                                                                                                                 The Genesis of Gyre\\n(https://opensea.io/collection/gyre)\\n\\n10696x10696   \n",
       "\n",
       "                                                          m_img_x n_bid_count  \\\n",
       "0   ipfs://QmTKdyzYbT9FzAs8mB4HGiLDR7o8maRP34J5iNDFZQqndQ/nft.png        31.0   \n",
       "1   ipfs://QmYChA4jtLhiMLPhDZv1t3xGZ1uj46yG4dtzCygUjgdhz7/nft.png         8.0   \n",
       "2   ipfs://Qmbd3CzQMBPYeYBiMWe7U2bTWCyRusEjcMB3Ck84LcDbGc/nft.png         1.0   \n",
       "6   ipfs://QmcReVCdz6CSsvhYNnrGQH93BEQhdatd7TNV1CivYqFer1/nft.png         5.0   \n",
       "8   ipfs://QmbQn11K5DMk14FxLVwNyfJMWLZPy2biRGgnPwebzYGoxf/nft.png         9.0   \n",
       "9   ipfs://Qmb9oBysDQTSd8uEsBwZVqesUMVdBhQQdBvaUMPx44r5m9/nft.png         2.0   \n",
       "10  ipfs://QmbDqs81sSFjDwnjRvEL9vizrJ9wXddSbw5ntLwnvJ7arL/nft.png        13.0   \n",
       "11  ipfs://QmNyHG5Jq5eWZBdkRwu3m9n3UBAMzht3wHXy3iDHeeMQqD/nft.png         8.0   \n",
       "12  ipfs://Qme4wh13S57SMBD5eKkjL6X1Tvr89YFn2BXzGczP3FchWh/nft.png         3.0   \n",
       "13  ipfs://QmPVeJTxXtKcSBUBnCiKB7RJRBYq34RDaxmjEJzhA1GR8s/nft.png         8.0   \n",
       "14  ipfs://QmZN4qqKmcVzX2z6rP3FifnpQNAD4KtnsV4pXSHLMpCxAJ/nft.png         4.0   \n",
       "15  ipfs://Qmeot6GDi8C2c6NkCoKkgm4RxajS8ZqaMHHRqV7NerAEjR/nft.png         4.0   \n",
       "16  ipfs://QmaRR8GdtxvhQsd7EAy7pbPCwfwMk6RnFCPUyDXw5Uguy6/nft.png         4.0   \n",
       "17  ipfs://QmU1gwBPfQedgeZWfbDUmP5hpiWdTjkhn2sHqfWRWNwEV3/nft.png         1.0   \n",
       "18  ipfs://QmdA9GhydQdS2CkGMZ9YcezUeYrVR4dqFhpko2CUNtcooq/nft.png         6.0   \n",
       "19  ipfs://QmU218BKy1dZn5XdJqv5diqk2dLBbzkj5ny47BXptQbWpQ/nft.png         3.0   \n",
       "21  ipfs://QmeAJVD6rULnkWvcE7RN4mYRYRZJYsPm8x8v5UxGgHGrm1/nft.png         5.0   \n",
       "22  ipfs://QmW2XnmT4L9DxtY1UhkrPkhSVBK6m6Hs36gYUXymM3qnTe/nft.png        11.0   \n",
       "23  ipfs://QmW365nZKzz6aqaT1HZohxs5dMkEAwvmEPBzGhrLuHRTwL/nft.png         5.0   \n",
       "24  ipfs://Qmf1ThrEQ1i8d1zLNx7ULdRZC4DJW9LYx9BWfd63hgifkH/nft.png         8.0   \n",
       "\n",
       "    n_bid_max  n_list_max   n_bid_max  n_bid_min  \\\n",
       "0   2224.0000         2.0  552.849126     2.0000   \n",
       "1     49.5002         0.1   29.538775     0.1000   \n",
       "2     33.0000        33.0   33.000000    33.0000   \n",
       "6     38.5000         0.1   14.772000     0.1000   \n",
       "8      5.0000         1.2    2.338900     1.2000   \n",
       "9      1.3200         6.0    1.260000     1.2000   \n",
       "10    23.8800         5.0   12.040777     5.0000   \n",
       "11     2.4300         1.2    1.750263     1.2000   \n",
       "12     1.8150         1.5    1.655000     1.5000   \n",
       "13     3.5000        12.0    2.400000     1.5000   \n",
       "14     2.0000         1.5    1.741250     1.5000   \n",
       "15     2.0000        32.0    1.741250     1.5000   \n",
       "16     1.9965         4.0    1.740375     1.5000   \n",
       "17     2.0000         2.0    2.000000     2.0000   \n",
       "18     1.6500         1.0    1.307533     1.0000   \n",
       "19     2.2000         1.5    1.900000     1.5000   \n",
       "21     2.5300         1.5    2.102840     1.6942   \n",
       "22     4.6900         1.5    2.833273     1.5000   \n",
       "23     8.0000         7.9    3.634000     1.5000   \n",
       "24     8.3600         3.0    5.730000     3.0000   \n",
       "\n",
       "                            m_name_y  \\\n",
       "0   Stay Free (Edward Snowden, 2021)   \n",
       "1                          PORTAL 07   \n",
       "2                          PORTAL 08   \n",
       "6                          PORTAL 12   \n",
       "8                   dєѕírєd ѕσlítudє   \n",
       "9                       bᎥᎾᏟᎬᏞᎬsᏆᎥᎪᏞ   \n",
       "10                         PORTAL 01   \n",
       "11                           changes   \n",
       "12                       Reflections   \n",
       "13                              Slow   \n",
       "14                     Sciz Triptych   \n",
       "15                     Sciz Triptych   \n",
       "16                     Sciz Triptych   \n",
       "17                               CHI   \n",
       "18                              8008   \n",
       "19                                12   \n",
       "21                           Keep me   \n",
       "22                              Time   \n",
       "23                           Waiting   \n",
       "24                The Gold Gyre (#0)   \n",
       "\n",
       "                                                                                                                                                                                                   m_desc_y  \\\n",
       "0   This unique, signed work combines the entirety of a landmark court decision ruling the National Security Agency's mass surveillance violated the law, with the iconic portrait of the whistleblower ...   \n",
       "1                                                                                                 Possession of this PORTAL entitles you to membership in the TBOA club (theblocksofart.com)\\n\\n10000x10000   \n",
       "2                                                                                        Possession of this PORTAL entitles you to membership in the TBOA club (tboa.club)\\n\\n444(4) Edition\\n\\n10000x10000   \n",
       "6                                                                                                          Possession of this PORTAL entitles you to membership in the TBOA club (tboa.club)\\n\\n10000x10000   \n",
       "8                                                                                                                                                                                               8000 x 8000   \n",
       "9                                                                                                                                                                                                 8000x8000   \n",
       "10                                                                                                  Possession of this PORTAL entitles you to membership in the TBOA club (theblocksofart.com)\\n\\n8000x8000   \n",
       "11                                                                                                                                                                                                8000x8000   \n",
       "12                                                                                                                                                                                                8000x8000   \n",
       "13                                                                                                                                                                                                8000x8000   \n",
       "14                                                                                                                                                                                       1 / 3\\n\\n8000x8000   \n",
       "15                                                                                                                                                                                        2/ 3\\n\\n8000x8000   \n",
       "16                                                                                                                                                                                       3 / 3\\n\\n8000x8000   \n",
       "17                                                                                                                                                                                                8000x8000   \n",
       "18                                                                                                                                                                                                8000x8000   \n",
       "19                                                                                                                                                                                                8000x8000   \n",
       "21                                                                                                                                                                                                8000x8000   \n",
       "22                                                                                                                                                                                                8000x8000   \n",
       "23                                                                                                                                                                                                8000x8000   \n",
       "24                                                                                                                                 The Genesis of Gyre\\n(https://opensea.io/collection/gyre)\\n\\n10696x10696   \n",
       "\n",
       "                                                          m_img_y  \n",
       "0   ipfs://QmTKdyzYbT9FzAs8mB4HGiLDR7o8maRP34J5iNDFZQqndQ/nft.png  \n",
       "1   ipfs://QmYChA4jtLhiMLPhDZv1t3xGZ1uj46yG4dtzCygUjgdhz7/nft.png  \n",
       "2   ipfs://Qmbd3CzQMBPYeYBiMWe7U2bTWCyRusEjcMB3Ck84LcDbGc/nft.png  \n",
       "6   ipfs://QmcReVCdz6CSsvhYNnrGQH93BEQhdatd7TNV1CivYqFer1/nft.png  \n",
       "8   ipfs://QmbQn11K5DMk14FxLVwNyfJMWLZPy2biRGgnPwebzYGoxf/nft.png  \n",
       "9   ipfs://Qmb9oBysDQTSd8uEsBwZVqesUMVdBhQQdBvaUMPx44r5m9/nft.png  \n",
       "10  ipfs://QmbDqs81sSFjDwnjRvEL9vizrJ9wXddSbw5ntLwnvJ7arL/nft.png  \n",
       "11  ipfs://QmNyHG5Jq5eWZBdkRwu3m9n3UBAMzht3wHXy3iDHeeMQqD/nft.png  \n",
       "12  ipfs://Qme4wh13S57SMBD5eKkjL6X1Tvr89YFn2BXzGczP3FchWh/nft.png  \n",
       "13  ipfs://QmPVeJTxXtKcSBUBnCiKB7RJRBYq34RDaxmjEJzhA1GR8s/nft.png  \n",
       "14  ipfs://QmZN4qqKmcVzX2z6rP3FifnpQNAD4KtnsV4pXSHLMpCxAJ/nft.png  \n",
       "15  ipfs://Qmeot6GDi8C2c6NkCoKkgm4RxajS8ZqaMHHRqV7NerAEjR/nft.png  \n",
       "16  ipfs://QmaRR8GdtxvhQsd7EAy7pbPCwfwMk6RnFCPUyDXw5Uguy6/nft.png  \n",
       "17  ipfs://QmU1gwBPfQedgeZWfbDUmP5hpiWdTjkhn2sHqfWRWNwEV3/nft.png  \n",
       "18  ipfs://QmdA9GhydQdS2CkGMZ9YcezUeYrVR4dqFhpko2CUNtcooq/nft.png  \n",
       "19  ipfs://QmU218BKy1dZn5XdJqv5diqk2dLBbzkj5ny47BXptQbWpQ/nft.png  \n",
       "21  ipfs://QmeAJVD6rULnkWvcE7RN4mYRYRZJYsPm8x8v5UxGgHGrm1/nft.png  \n",
       "22  ipfs://QmW2XnmT4L9DxtY1UhkrPkhSVBK6m6Hs36gYUXymM3qnTe/nft.png  \n",
       "23  ipfs://QmW365nZKzz6aqaT1HZohxs5dMkEAwvmEPBzGhrLuHRTwL/nft.png  \n",
       "24  ipfs://Qmf1ThrEQ1i8d1zLNx7ULdRZC4DJW9LYx9BWfd63hgifkH/nft.png  \n",
       "\n",
       "[20 rows x 22 columns]"
      ]
     },
     "execution_count": 41,
     "metadata": {},
     "output_type": "execute_result"
    }
   ],
   "source": [
    "nft_combined.head(20)"
   ]
  },
  {
   "cell_type": "code",
   "execution_count": 42,
   "id": "e85f0f94-d353-4dfe-af12-223b80d5843e",
   "metadata": {},
   "outputs": [],
   "source": [
    "datapath = \"../data/processed/\"\n",
    "nft_combined.to_csv(datapath + 'nft_combined.csv', index = False)"
   ]
  }
 ],
 "metadata": {
  "kernelspec": {
   "display_name": "Python 3 (ipykernel)",
   "language": "python",
   "name": "python3"
  },
  "language_info": {
   "codemirror_mode": {
    "name": "ipython",
    "version": 3
   },
   "file_extension": ".py",
   "mimetype": "text/x-python",
   "name": "python",
   "nbconvert_exporter": "python",
   "pygments_lexer": "ipython3",
   "version": "3.9.7"
  }
 },
 "nbformat": 4,
 "nbformat_minor": 5
}
